{
 "cells": [
  {
   "cell_type": "code",
   "execution_count": 1,
   "metadata": {
    "collapsed": true,
    "deletable": true,
    "editable": true
   },
   "outputs": [],
   "source": [
    "# Import necessary libraries/modules\n",
    "import vertica_python\n",
    "import pandas as pd\n",
    "import numpy as np\n",
    "import seaborn as sns\n",
    "import matplotlib.pyplot as plt\n",
    "%matplotlib inline\n",
    "import os\n",
    "\n",
    "from sklearn.model_selection import train_test_split\n",
    "from sklearn import metrics"
   ]
  },
  {
   "cell_type": "code",
   "execution_count": 2,
   "metadata": {
    "collapsed": true,
    "deletable": true,
    "editable": true
   },
   "outputs": [],
   "source": [
    "# Set up the Vertica Connection Information\n",
    "username = os.getenv('VERTICA_USERNAME')\n",
    "password = os.getenv('VERTICA_PASSWORD')\n",
    "\n",
    "conn_info = {'host': 'warehouse.analytics.edx.org',\n",
    "             'port': 5433,\n",
    "             'user': username,\n",
    "             'password': password,\n",
    "             'database': 'warehouse',\n",
    "             'read_timeout': 600,\n",
    "             'unicode_error': 'strict',\n",
    "             'ssl': False\n",
    "            }\n",
    "\n",
    "connection = vertica_python.connect(**conn_info)\n",
    "cur = connection.cursor('dict')"
   ]
  },
  {
   "cell_type": "code",
   "execution_count": null,
   "metadata": {
    "collapsed": true,
    "deletable": true,
    "editable": true
   },
   "outputs": [],
   "source": [
    "preprocess_query=\"\"\"\n",
    "-- Create Binary Columns for each subject within a course_id\n",
    "DROP TABLE IF EXISTS tmp_course_subjects;\n",
    "CREATE LOCAL TEMPORARY TABLE IF NOT EXISTS tmp_course_subjects ON COMMIT PRESERVE ROWS AS\n",
    "SELECT\t\n",
    "\tDISTINCT course_id,\n",
    "\tCASE \n",
    "\t\tWHEN subject_title = 'Architecture' THEN 1\n",
    "\t\tELSE 0\n",
    "\tEND AS Architecture,\n",
    "\tCASE \n",
    "\t\tWHEN subject_title = 'Art & Culture' THEN 1\n",
    "\t\tELSE 0\n",
    "\tEND AS ArtCulture,\n",
    "\tCASE \n",
    "\t\tWHEN subject_title = 'Biology & Life Sciences' THEN 1\n",
    "\t\tELSE 0\n",
    "\tEND AS BiologyLifeSciences,\n",
    "\tCASE \n",
    "\t\tWHEN subject_title = 'Business & Management' THEN 1\n",
    "\t\tELSE 0\n",
    "\tEND AS BusinessManagement,\n",
    "\tCASE \n",
    "\t\tWHEN subject_title = 'Chemistry' THEN 1\n",
    "\t\tELSE 0\n",
    "\tEND AS Chemistry,\n",
    "\tCASE \n",
    "\t\tWHEN subject_title = 'Communication' THEN 1\n",
    "\t\tELSE 0\n",
    "\tEND AS Communication,\n",
    "\tCASE \n",
    "\t\tWHEN subject_title = 'Computer Science' THEN 1\n",
    "\t\tELSE 0\n",
    "\tEND AS ComputerScience,\n",
    "\tCASE \n",
    "\t\tWHEN subject_title = 'Data Analysis & Statistics' THEN 1\n",
    "\t\tELSE 0\n",
    "\tEND AS DataAnalysisStatistics,\n",
    "\tCASE \n",
    "\t\tWHEN subject_title = 'Design' THEN 1\n",
    "\t\tELSE 0\n",
    "\tEND AS Design,\n",
    "\tCASE \n",
    "\t\tWHEN subject_title = 'Economics & Finance' THEN 1\n",
    "\t\tELSE 0\n",
    "\tEND AS EconomicsFinance,\n",
    "\tCASE \n",
    "\t\tWHEN subject_title = 'Education & Teacher Training' THEN 1\n",
    "\t\tELSE 0\n",
    "\tEND AS EducationTeacherTraining,\n",
    "\tCASE \n",
    "\t\tWHEN subject_title = 'Electronics' THEN 1\n",
    "\t\tELSE 0\n",
    "\tEND AS Electronics,\n",
    "\tCASE \n",
    "\t\tWHEN subject_title = 'Energy & Earth Sciences' THEN 1\n",
    "\t\tELSE 0\n",
    "\tEND AS EnergyEarthSciences,\n",
    "\tCASE \n",
    "\t\tWHEN subject_title = 'Engineering' THEN 1\n",
    "\t\tELSE 0\n",
    "\tEND AS Engineering,\n",
    "\tCASE \n",
    "\t\tWHEN subject_title = 'Environmental Studies' THEN 1\n",
    "\t\tELSE 0\n",
    "\tEND AS EnvironmentalStudies,\n",
    "\tCASE \n",
    "\t\tWHEN subject_title = 'Ethics' THEN 1\n",
    "\t\tELSE 0\n",
    "\tEND AS Ethics,\n",
    "\tCASE \n",
    "\t\tWHEN subject_title = 'Food & Nutrition' THEN 1\n",
    "\t\tELSE 0\n",
    "\tEND AS FoodNutrition,\n",
    "\tCASE \n",
    "\t\tWHEN subject_title = 'Health & Safety' THEN 1\n",
    "\t\tELSE 0\n",
    "\tEND AS HealthSafety,\n",
    "\tCASE \n",
    "\t\tWHEN subject_title = 'History' THEN 1\n",
    "\t\tELSE 0\n",
    "\tEND AS History,\n",
    "\tCASE \n",
    "\t\tWHEN subject_title = 'Humanities' THEN 1\n",
    "\t\tELSE 0\n",
    "\tEND AS Humanities,\n",
    "\t\tCASE \n",
    "\t\tWHEN subject_title = 'Language' THEN 1\n",
    "\t\tELSE 0\n",
    "\tEND AS Languag,\n",
    "\t\tCASE \n",
    "\t\tWHEN subject_title = 'Law' THEN 1\n",
    "\t\tELSE 0\n",
    "\tEND AS Law,\n",
    "\t\tCASE \n",
    "\t\tWHEN subject_title = 'Literature' THEN 1\n",
    "\t\tELSE 0\n",
    "\tEND AS Literature,\n",
    "\t\tCASE \n",
    "\t\tWHEN subject_title = 'Math' THEN 1\n",
    "\t\tELSE 0\n",
    "\tEND AS Math,\n",
    "\t\tCASE \n",
    "\t\tWHEN subject_title = 'Medicine' THEN 1\n",
    "\t\tELSE 0\n",
    "\tEND AS Medicine,\n",
    "\t\tCASE \n",
    "\t\tWHEN subject_title = 'Music' THEN 1\n",
    "\t\tELSE 0\n",
    "\tEND AS Music,\n",
    "\t\tCASE \n",
    "\t\tWHEN subject_title = 'Philosophy & Ethics' THEN 1\n",
    "\t\tELSE 0\n",
    "\tEND AS PhilosophyEthics,\n",
    "\t\tCASE \n",
    "\t\tWHEN subject_title = 'Physics' THEN 1\n",
    "\t\tELSE 0\n",
    "\tEND AS Physics,\n",
    "\t\tCASE \n",
    "\t\tWHEN subject_title = 'Science' THEN 1\n",
    "\t\tELSE 0\n",
    "\tEND AS Science,\n",
    "\t\tCASE \n",
    "\t\tWHEN subject_title = 'Social Sciences' THEN 1\n",
    "\t\tELSE 0\n",
    "\tEND AS SocialSciences\n",
    "FROM\n",
    "\tproduction.d_course_subjects;\n",
    "\t\n",
    "--Roll up the subjects at the course_id level\n",
    "DROP TABLE IF EXISTS ed_services.course_subjects;\t\n",
    "CREATE TABLE IF NOT EXISTS ed_services.course_subjects AS\n",
    "SELECT\n",
    "\tcourse_id,\n",
    "\tSUM(Architecture) AS Architecture,\n",
    "\tSUM(ArtCulture) AS ArtCulture,\n",
    "\tSUM(BiologyLifeSciences) AS BiologyLifeSciences,\n",
    "\tSUM(BusinessManagement) AS BusinessManagement,\n",
    "\tSUM(Chemistry) AS Chemistry,\n",
    "\tSUM(Communication) AS Communication,\n",
    "\tSUM(ComputerScience) AS ComputerScience,\n",
    "\tSUM(DataAnalysisStatistics) AS DataAnalysisStatistics,\n",
    "\tSUM(Design) AS Design,\n",
    "\tSUM(EconomicsFinance) AS EconomicsFinance,\n",
    "\tSUM(EducationTeacherTraining) AS EducationTeacherTraining,\n",
    "\tSUM(Electronics) AS Electronics,\n",
    "\tSUM(EnergyEarthSciences) AS EnergyEarthSciences,\n",
    "\tSUM(Engineering) AS Engineering,\n",
    "\tSUM(EnvironmentalStudies) AS EnvironmentalStudies,\n",
    "\tSUM(Ethics) AS Ethics,\n",
    "\tSUM(FoodNutrition) AS FoodNutrition,\n",
    "\tSUM(HealthSafety) AS HealthSafety,\n",
    "\tSUM(History) AS History,\n",
    "\tSUM(Humanities) AS Humanities,\n",
    "\tSUM(Languag) AS Languag,\n",
    "\tSUM(Law) AS Law,\n",
    "\tSUM(Literature) AS Literature,\n",
    "\tSUM(Math) AS Math,\n",
    "\tSUM(Medicine) AS Medicine,\n",
    "\tSUM(Music) AS Music,\n",
    "\tSUM(PhilosophyEthics) AS PhilosophyEthics,\n",
    "\tSUM(Physics) AS Physics,\n",
    "\tSUM(Science) AS Science,\n",
    "\tSUM(SocialSciences) AS SocialSciences,\n",
    "\tCOUNT(*) AS cnt_subjects\n",
    "FROM\n",
    "\ttmp_course_subjects\n",
    "GROUP BY\n",
    "\tcourse_id;\n",
    "    \n",
    "--Create Binary columns for programs \n",
    "DROP TABLE IF EXISTS tmp_course_program;\t\n",
    "CREATE LOCAL TEMPORARY TABLE IF NOT EXISTS tmp_course_program ON COMMIT PRESERVE ROWS AS\n",
    "SELECT\n",
    "\tcourse_id,\n",
    "\tCASE\n",
    "\t\tWHEN program_type = 'XSeries' THEN 1\n",
    "\t\tELSE 0\n",
    "\tEND AS XSeries,\n",
    "\tCASE\n",
    "\t\tWHEN program_type = 'Professional Certificate' THEN 1\n",
    "\t\tELSE 0\n",
    "\tEND AS ProfessionalCertificate,\n",
    "\tCASE\n",
    "\t\tWHEN program_type = 'MicroMasters' THEN 1\n",
    "\t\tELSE 0\n",
    "\tEND AS MicroMasters\n",
    "FROM\n",
    "\tproduction.d_program_course;\n",
    "\n",
    "--Sum up the programs columns and add column for non program courses\n",
    "DROP TABLE IF EXISTS course_program;\n",
    "CREATE LOCAL TEMPORARY TABLE IF NOT EXISTS course_program ON COMMIT PRESERVE ROWS AS\n",
    "SELECT\n",
    "\tcourse_id,\n",
    "\tSUM(XSeries) AS XSeries,\n",
    "\tSUM(ProfessionalCertificate) AS ProfessionalCertificate,\n",
    "\tSUM(MicroMasters) AS MicroMasters\n",
    "FROM\n",
    "\ttmp_course_program\n",
    "GROUP BY\n",
    "\tcourse_id;  \n",
    "\t\n",
    "--Roll up into a program summary table\t\n",
    "DROP TABLE IF EXISTS ed_services.course_program;\n",
    "CREATE TABLE IF NOT EXISTS ed_services.course_program AS\n",
    "SELECT\n",
    "\ta.course_id,\n",
    "\tISNULL(XSeries, 0) AS XSeries,\n",
    "\tISNULL(ProfessionalCertificate, 0) AS ProfessionalCertificate,\n",
    "\tISNULL(MicroMasters, 0) AS MicroMasters,\n",
    "\tCASE\n",
    "\t\tWHEN XSeries IS NULL THEN 1\n",
    "\t\tELSE 0\n",
    "\tEND AS NonProgram\n",
    "FROM\n",
    "\tbusiness_intelligence.course_master a\n",
    "LEFT JOIN\n",
    "\tcourse_program b\n",
    "ON\n",
    "\ta.course_id = b.course_id;\n",
    "\n",
    "--Create binary column for course track\n",
    "DROP TABLE IF EXISTS tmp_course_track;\t\n",
    "CREATE LOCAL TEMPORARY TABLE IF NOT EXISTS tmp_course_track ON COMMIT PRESERVE ROWS AS\t\n",
    "SELECT\n",
    "\tcourse_id,\n",
    "\tCASE\n",
    "\t\tWHEN course_seat_type IN ('honor', 'audit') THEN 1\n",
    "\t\tELSE 0\n",
    "\tEND AS audit_track,\n",
    "\tCASE\n",
    "\t\tWHEN course_seat_type = 'verified' THEN 1\n",
    "\t\tELSE 0\n",
    "\tEND AS verified_track,\n",
    "\tCASE\n",
    "\t\tWHEN course_seat_type IN ('no-id-professional', 'professional') THEN 1\n",
    "\t\tELSE 0\n",
    "\tEND AS professional_track,\n",
    "\tCASE\n",
    "\t\tWHEN course_seat_type = 'credit' THEN 1\n",
    "\t\tELSE 0\n",
    "\tEND AS credit_track\n",
    "FROM\n",
    "\tproduction.d_course_seat;\n",
    "\t\n",
    "--Roll up of course tracks per course_id\t\n",
    "DROP TABLE IF EXISTS ed_services.course_track;\n",
    "CREATE TABLE IF NOT EXISTS ed_services.course_track AS\n",
    "SELECT\n",
    "\tcourse_id,\n",
    "\tSUM(audit_track) AS audit_track,\n",
    "\tSUM(verified_track) AS verified_track,\n",
    "\tSUM(professional_track) AS professional_track,\n",
    "\tSUM(credit_track) AS credit_track,\n",
    "\tCOUNT(*) AS cnt_available_tracks\n",
    "FROM\n",
    "\ttmp_course_track\n",
    "GROUP BY\n",
    "\tcourse_id;\n",
    "    \n",
    "--Partner Rankings    \n",
    "DROP TABLE IF EXISTS ed_services.partner_rankings;\t\n",
    "CREATE TABLE IF NOT EXISTS ed_services.partner_rankings AS\n",
    "SELECT\n",
    "\torg_id,\n",
    "\tcourse_run_count,\n",
    "\tcourse_count,\n",
    "\tsum_partner_enrolls,\n",
    "\tsum_partner_vtr,\n",
    "\tsum_partner_bookings,\n",
    "\tISNULL(sum_partner_enrolls/course_run_count, 0) AS enrollments_per_course_run,\n",
    "\tISNULL(sum_partner_bookings/course_run_count, 0) AS bookings_per_course_run,\n",
    "\tROW_NUMBER() OVER (ORDER BY sum_partner_enrolls DESC) AS enrollment_rank,\n",
    "\tROW_NUMBER() OVER (ORDER BY ISNULL(sum_partner_bookings,0) DESC) AS bookings_rank,\n",
    "\tROW_NUMBER() OVER (ORDER BY ISNULL(sum_partner_vtr, 0) DESC) AS vtr_rank,\n",
    "\tROW_NUMBER() OVER (ORDER BY ISNULL(sum_partner_enrolls/course_run_count, 0) DESC) AS enrolls_per_course_rank,\n",
    "\tROW_NUMBER() OVER (ORDER BY ISNULL(sum_partner_bookings/course_run_count, 0) DESC) AS bookings_per_course_rank\n",
    "FROM\n",
    "\tbusiness_intelligence.partner_stats_summary\n",
    "WHERE\n",
    "\torg_id IS NOT NULL;\n",
    "    \n",
    "DROP TABLE IF EXISTS ed_services.pre_course_grouping;\n",
    "CREATE TABLE IF NOT EXISTS ed_services.pre_course_grouping AS\n",
    "SELECT\n",
    "\tcourse_id,\n",
    "\tCASE\n",
    "\t\tWHEN subject_title IN ('Architecture', 'Art & Culture', 'Design', 'Education & Teacher Training', 'Ethics', 'Food & Nutrition', 'Health & Safety', 'History', 'Humanities', 'Language', 'Law', 'Literature', 'Music', 'Philosophy & Ethics', 'Social Sciences') THEN 1\n",
    "\t\tELSE 0\n",
    "\tEND AS LiberalArts,\n",
    "\tCASE\n",
    "\t\tWHEN subject_title IN ('Biology & Life Sciences', 'Chemistry', 'Computer Science', 'Data Analysis & Statistics', 'Electronics', 'Energy & Earth Sciences', 'Engineering', 'Environmental Studies', 'Math', 'Medicine', 'Physics', 'Science') THEN 1\n",
    "\t\tELSE 0\n",
    "\tEND AS STEM,\n",
    "\tCASE\n",
    "\t\tWHEN subject_title IN ('Business & Management', 'Communication', 'Economics & Finance') THEN 1\n",
    "\t\tELSE 0\n",
    "\tEND AS Business\n",
    "FROM\n",
    "\tproduction.d_course_subjects;\n",
    "\t\n",
    "DROP TABLE IF EXISTS ed_services.tmp_pre_course_grouping;\n",
    "CREATE TABLE IF NOT EXISTS ed_services.tmp_pre_course_grouping AS\n",
    "SELECT\n",
    "\tcourse_id,\n",
    "\tSUM(LiberalArts) AS LiberalArts,\n",
    "\tSUM(STEM) AS STEM,\n",
    "\tSUM(Business) AS Business\n",
    "FROM\n",
    "\ted_services.pre_course_grouping\n",
    "GROUP BY\n",
    "\tcourse_id;\n",
    "\t\n",
    "DROP TABLE IF EXISTS ed_services.course_grouping;\n",
    "CREATE TABLE IF NOT EXISTS ed_services.course_grouping AS\n",
    "SELECT\n",
    "\tcourse_id,\n",
    "\tCASE\n",
    "\t\tWHEN LiberalArts > 0 THEN 1\n",
    "\t\tELSE 0\n",
    "\tEND AS LiberalArts,\n",
    "\tCASE\n",
    "\t\tWHEN STEM > 0 THEN 1\n",
    "\t\tELSE 0\n",
    "\tEND AS STEM,\n",
    "\tCASE\n",
    "\t\tWHEN Business > 0 THEN 1\n",
    "\t\tELSE 0\n",
    "\tEND AS Business\n",
    "FROM\n",
    "\ted_services.tmp_pre_course_grouping;\n",
    "    \n",
    "DROP TABLE IF EXISTS ed_services.registrations;\n",
    "CREATE TABLE IF NOT EXISTS ed_services.registrations AS\n",
    "SELECT\n",
    "\tYEAR(user_account_creation_time) AS yr,\n",
    "\tQUARTER(user_account_creation_time) AS qtr,\n",
    "\tMONTH(user_account_creation_time) AS mth,\n",
    "\tCOUNT(*) AS registrations\n",
    "FROM\n",
    "\tproduction.d_user\n",
    "GROUP BY\n",
    "\t1,\n",
    "\t2,\n",
    "\t3;\n",
    "    \n",
    "DROP TABLE IF EXISTS ed_services.course_staff;\n",
    "CREATE TABLE IF NOT EXISTS ed_services.course_staff AS\n",
    "SELECT\n",
    "\tcourse_id,\n",
    "\tCOUNT(DISTINCT a.user_id) AS TAs\n",
    "FROM\n",
    "\tlms_read_replica.student_courseaccessrole a\n",
    "LEFT JOIN\n",
    "\tproduction.d_user b\n",
    "ON\n",
    "\ta.user_id = b.user_id\n",
    "WHERE\n",
    "\trole IN ('instructor', 'staff')\n",
    "AND\n",
    "\tuser_email NOT LIKE '%edx.org'\n",
    "GROUP BY\n",
    "\tcourse_id;    \n",
    "\"\"\"\n",
    "\n",
    "# Execute the Query from above\n",
    "cur.execute(preprocess_query)"
   ]
  },
  {
   "cell_type": "code",
   "execution_count": 11,
   "metadata": {
    "collapsed": false,
    "deletable": true,
    "editable": true
   },
   "outputs": [],
   "source": [
    "query = \"\"\"\n",
    "SELECT\n",
    "\ta.course_id,\n",
    "\tcnt_subjects,\n",
    "\tLiberalArts,\n",
    "\tSTEM,\n",
    "\tBusiness,\n",
    "\tis_WL,\n",
    "\tlevel_type,\n",
    "\tpacing_type,\n",
    "\tcourse_partner,\n",
    "\tCASE\n",
    "\t\tWHEN course_partner IN ('MITx', 'HarvardX', 'BerkeleyX', 'UTArlingtonX', 'UTAustinX', 'UTHealthSPHx', 'UTPermianBasin', 'UTSanAntonioX', 'UTMBx', 'UQx', 'DelftX') THEN 1 ELSE 0\n",
    "\tEND AS trust_bar_tier_1,\n",
    "\tCASE\n",
    "\t\tWHEN course_partner IN ('BUx', 'SorbonneX', 'UBCx', 'USMx', 'GeorgetownX', 'AdelaideX') THEN 1 ELSE 0\n",
    "\tEND AS trust_bar_tier_2,\n",
    "\tCASE\n",
    "\t\tWHEN course_partner IN ('RWTHx', 'ANUx') THEN 1 ELSE 0\n",
    "\tEND AS trust_bar_tier_3,\n",
    "\tCASE\n",
    "\t\tWHEN course_partner IN ('MITx', 'HarvardX', 'BerkeleyX', 'CaltechX', 'OxfordX', 'ColumbiaX') THEN 1 ELSE 0\n",
    "\tEND AS top_10_school,\n",
    "\tcourse_run_number,\n",
    "\tXSeries,\n",
    "\tProfessionalCertificate,\n",
    "\tMicroMasters,\n",
    "\tNonProgram,\n",
    "\taudit_track,\n",
    "\tverified_track,\n",
    "\tprofessional_track,\n",
    "\tcredit_track,\n",
    "\tcnt_available_tracks,\n",
    "\tYEAR(course_start_date) AS yr_started,\n",
    "\tQUARTER(course_start_date) AS qtr_started,\n",
    "\tMONTH(course_start_date) AS mth_started,\n",
    "\tDAYOFMONTH(course_start_date) AS day_of_month_started,\n",
    "\tDAYOFWEEK(course_start_date) AS day_of_week_started,\n",
    "\tYEAR(course_end_date) AS yr_ended,\n",
    "\tQUARTER(course_end_date) AS qtr_ended,\n",
    "\tMONTH(course_end_date) AS mth_ended,\n",
    "\tDAYOFMONTH(course_end_date) AS day_of_month_ended,\n",
    "\tDAYOFWEEK(course_end_date) AS day_of_week_ended,\n",
    "\tDATEDIFF(day, course_start_date, course_end_date) AS course_open_length,\n",
    "\tDATEDIFF(day, course_start_date, course_verification_end_date) AS course_verification_window,\n",
    "\tregistrations,\n",
    "\tTAs,\n",
    "\tsum_enrolls,\n",
    "\tsum_enrolls/DATEDIFF(day, course_start_date, course_end_date) AS daily_enrollment_rate,\n",
    "\tsum_unenrolls/sum_enrolls AS pct_unenroll,\n",
    "\tsum_unenrolls,\n",
    "\tsum_unenrolls/DATEDIFF(day, course_start_date, course_end_date) AS daily_unenrollment_rate,\n",
    "\tsum_verifications,\n",
    "\tvtr,\n",
    "\tbookings_rank,\n",
    "    bookings_per_course_rank,\n",
    "\tCAST(sum_bookings AS INT) AS sum_bookings\n",
    "FROM\n",
    "\ted_services.course_subjects a\n",
    "LEFT JOIN\n",
    "\tbusiness_intelligence.course_stats_summary b\n",
    "ON\n",
    "\ta.course_id = b.course_id\n",
    "LEFT JOIN\n",
    "\tbusiness_intelligence.course_master c\n",
    "ON\n",
    "\ta.course_id = c.course_id\n",
    "LEFT JOIN\n",
    "\ted_services.course_program d\n",
    "ON\n",
    "\ta.course_id = d.course_id\n",
    "LEFT JOIN\n",
    "\ted_services.course_track e\n",
    "ON\n",
    "\ta.course_id = e.course_id\n",
    "LEFT JOIN\n",
    "\ted_services.partner_rankings f\n",
    "ON\n",
    "\tc.course_partner = f.org_id\n",
    "LEFT JOIN\n",
    "\ted_services.course_grouping g\n",
    "ON\n",
    "\ta.course_id = g.course_id\n",
    "LEFT JOIN\n",
    "\ted_services.registrations h\n",
    "ON\n",
    "\tYEAR(course_start_date) = h.yr\n",
    "AND\n",
    "\tQUARTER(course_start_date) = h.qtr\n",
    "AND\n",
    "\tMONTH(course_start_date) = h.mth\n",
    "LEFT JOIN\n",
    "\ted_services.course_staff i\n",
    "ON\n",
    "\ta.course_id = i.course_id\n",
    "WHERE\n",
    "    course_end_date < GETDATE()\n",
    "AND\n",
    "    course_start_date < GETDATE();\n",
    "\"\"\"\n",
    "\n",
    "# Execute the Query from above\n",
    "cur.execute(query)\n",
    "\n",
    "# Dump the query results into a Pandas DataFrame\n",
    "course_data = pd.DataFrame(cur.fetchall())"
   ]
  },
  {
   "cell_type": "code",
   "execution_count": 12,
   "metadata": {
    "collapsed": false,
    "deletable": true,
    "editable": true
   },
   "outputs": [],
   "source": [
    "# Impute Missing Values with Median\n",
    "course_data['cnt_subjects'] = course_data['cnt_subjects'].fillna(course_data['cnt_subjects'].median())\n",
    "course_data['audit_track'] = course_data['audit_track'].fillna(course_data['audit_track'].median())\n",
    "course_data['verified_track'] = course_data['verified_track'].fillna(course_data['verified_track'].median())\n",
    "course_data['professional_track'] = course_data['professional_track'].fillna(course_data['professional_track'].median())\n",
    "course_data['credit_track'] = course_data['credit_track'].fillna(course_data['credit_track'].median())\n",
    "course_data['cnt_available_tracks'] = course_data['cnt_available_tracks'].fillna(course_data['cnt_available_tracks'].median())\n",
    "course_data['course_open_length'] = course_data['course_open_length'].fillna(course_data['course_open_length'].median())\n",
    "course_data['course_verification_window'] = course_data['course_verification_window'].fillna(course_data['course_verification_window'].median())\n",
    "course_data['daily_enrollment_rate'] = course_data['daily_enrollment_rate'].fillna(course_data['daily_enrollment_rate'].median())\n",
    "course_data['daily_unenrollment_rate'] = course_data['daily_unenrollment_rate'].fillna(course_data['daily_unenrollment_rate'].median())\n",
    "course_data['vtr'] = course_data['vtr'].fillna(course_data['vtr'].median())\n",
    "course_data['sum_bookings'] = course_data['sum_bookings'].fillna(course_data['sum_bookings'].mean())\n",
    "course_data['TAs'] = course_data['TAs'].fillna(course_data['TAs'].median())\n",
    "\n",
    "# Create a Target Column to use for Training Predictions\n",
    "#course_data['High Performing Course'] = (course_data.sum_bookings > course_data['sum_bookings'].median()).astype(int)\n",
    "course_data['High Performing Course'] = (course_data.sum_verifications > course_data['sum_verifications'].quantile(.66)).astype(int)\n",
    "\n",
    "# Create Dummy Columns\n",
    "course_data = pd.concat([course_data, pd.get_dummies(course_data['pacing_type'])], axis=1)\n",
    "course_data = pd.concat([course_data, pd.get_dummies(course_data['level_type'])], axis=1)"
   ]
  },
  {
   "cell_type": "code",
   "execution_count": null,
   "metadata": {
    "collapsed": false,
    "deletable": true,
    "editable": true
   },
   "outputs": [],
   "source": [
    "# Create multiclass category for enrollments based on quantiles\n",
    "course_data['High Performing Course'] = 0\n",
    "\n",
    "course_data['High Performing Course'][course_data['sum_enrolls'] >= course_data['sum_enrolls'].quantile(.75)] = 3\n",
    "course_data['High Performing Course'][course_data['sum_enrolls'] < course_data['sum_enrolls'].quantile(.75)] = 2\n",
    "course_data['High Performing Course'][course_data['sum_enrolls'] < course_data['sum_enrolls'].quantile(.50)] = 1\n",
    "course_data['High Performing Course'][course_data['sum_enrolls'] < course_data['sum_enrolls'].quantile(.25)] = 0"
   ]
  },
  {
   "cell_type": "code",
   "execution_count": 13,
   "metadata": {
    "collapsed": true,
    "deletable": true,
    "editable": true
   },
   "outputs": [],
   "source": [
    "# Create feature columns which will be used as factors to determine [y]\n",
    "feature_cols = ['LiberalArts',\n",
    "                'STEM',\n",
    "                'Business',\n",
    "                'cnt_subjects',\n",
    "                'Advanced',\n",
    "                'Intermediate',\n",
    "                'Introductory',\n",
    "                'self_paced',\n",
    "                'instructor_paced',\n",
    "                'course_run_number',\n",
    "                'XSeries',\n",
    "                #'ProfessionalCertificate',\n",
    "                'MicroMasters',\n",
    "                'NonProgram',\n",
    "                #'cnt_available_tracks',\n",
    "                'yr_started',\n",
    "                'qtr_started',\n",
    "                'mth_started',\n",
    "                'yr_ended',\n",
    "                'qtr_ended',\n",
    "                'mth_ended',\n",
    "                'course_open_length',\n",
    "                'course_verification_window',\n",
    "                'trust_bar_tier_1',\n",
    "                'trust_bar_tier_2',\n",
    "                #'trust_bar_tier_3',\n",
    "                'top_10_school',\n",
    "                #'bookings_per_course_rank',\n",
    "                'registrations',\n",
    "                'TAs'\n",
    "                ]\n",
    "\n",
    "\n",
    "X = course_data[feature_cols]\n",
    "# y for classification\n",
    "y = course_data['High Performing Course']\n",
    "# y for regressor\n",
    "#y = course_data['sum_bookings']\n",
    "# For classification of 3 categories\n",
    "#y = course_data['bookings_cat']"
   ]
  },
  {
   "cell_type": "code",
   "execution_count": 14,
   "metadata": {
    "collapsed": true,
    "deletable": true,
    "editable": true
   },
   "outputs": [],
   "source": [
    "# Split the data into testing and training for above average bookings classification\n",
    "X_train, X_test, y_train, y_test = train_test_split(course_data[feature_cols], course_data['High Performing Course'], test_size=0.20, random_state=42)"
   ]
  },
  {
   "cell_type": "code",
   "execution_count": 15,
   "metadata": {
    "collapsed": false,
    "deletable": true,
    "editable": true
   },
   "outputs": [
    {
     "name": "stdout",
     "output_type": "stream",
     "text": [
      "Warning: xgboost.XGBClassifier is not available and will not be used by TPOT.\n"
     ]
    },
    {
     "name": "stderr",
     "output_type": "stream",
     "text": [
      "                                                                                                                       \r"
     ]
    },
    {
     "name": "stdout",
     "output_type": "stream",
     "text": [
      "Generation 1 - Current best internal CV score: 0.7294971966\n"
     ]
    },
    {
     "name": "stderr",
     "output_type": "stream",
     "text": [
      "                                                                                                                       \r"
     ]
    },
    {
     "name": "stdout",
     "output_type": "stream",
     "text": [
      "Generation 2 - Current best internal CV score: 0.7294971966\n"
     ]
    },
    {
     "name": "stderr",
     "output_type": "stream",
     "text": [
      "                                                                                                                       \r"
     ]
    },
    {
     "name": "stdout",
     "output_type": "stream",
     "text": [
      "Generation 3 - Current best internal CV score: 0.7294971966\n"
     ]
    },
    {
     "name": "stderr",
     "output_type": "stream",
     "text": [
      "                                                                                                                       \r"
     ]
    },
    {
     "name": "stdout",
     "output_type": "stream",
     "text": [
      "Generation 4 - Current best internal CV score: 0.731840522698\n"
     ]
    },
    {
     "name": "stderr",
     "output_type": "stream",
     "text": [
      "                                                                                                                       \r"
     ]
    },
    {
     "name": "stdout",
     "output_type": "stream",
     "text": [
      "Generation 5 - Current best internal CV score: 0.738048019533\n"
     ]
    },
    {
     "name": "stderr",
     "output_type": "stream",
     "text": [
      "                                                                                                                       \r"
     ]
    },
    {
     "name": "stdout",
     "output_type": "stream",
     "text": [
      "Generation 6 - Current best internal CV score: 0.738048019533\n"
     ]
    },
    {
     "name": "stderr",
     "output_type": "stream",
     "text": [
      "                                                                                                                       \r"
     ]
    },
    {
     "name": "stdout",
     "output_type": "stream",
     "text": [
      "Generation 7 - Current best internal CV score: 0.738048019533\n"
     ]
    },
    {
     "name": "stderr",
     "output_type": "stream",
     "text": [
      "                                                                                                                       \r"
     ]
    },
    {
     "name": "stdout",
     "output_type": "stream",
     "text": [
      "Generation 8 - Current best internal CV score: 0.738048019533\n"
     ]
    },
    {
     "name": "stderr",
     "output_type": "stream",
     "text": [
      "                                                                                                                       \r"
     ]
    },
    {
     "name": "stdout",
     "output_type": "stream",
     "text": [
      "Generation 9 - Current best internal CV score: 0.738048019533\n"
     ]
    },
    {
     "name": "stderr",
     "output_type": "stream",
     "text": [
      "                                                                                                                       \r"
     ]
    },
    {
     "name": "stdout",
     "output_type": "stream",
     "text": [
      "Generation 10 - Current best internal CV score: 0.740087493218\n"
     ]
    },
    {
     "name": "stderr",
     "output_type": "stream",
     "text": [
      "                                                                                                                       \r"
     ]
    },
    {
     "name": "stdout",
     "output_type": "stream",
     "text": [
      "\n",
      "Best pipeline: ExtraTreesClassifier(FastICA(input_matrix, FastICA__tol=0.25), ExtraTreesClassifier__bootstrap=DEFAULT, ExtraTreesClassifier__criterion=entropy, ExtraTreesClassifier__max_features=0.75, ExtraTreesClassifier__min_samples_leaf=DEFAULT, ExtraTreesClassifier__min_samples_split=8, ExtraTreesClassifier__n_estimators=100)\n",
      "0.735537190083\n"
     ]
    }
   ],
   "source": [
    "# Using the TPOT classifier to figure out the best model to use\n",
    "from tpot import TPOTClassifier\n",
    "\n",
    "tpot = TPOTClassifier(generations=10, verbosity=2)\n",
    "tpot.fit(X_train, y_train)\n",
    "print(tpot.score(X_test, y_test))\n",
    "\n",
    "# Use TPOT on full dataset\n",
    "#tpot.fit(X, y)\n",
    "#print(tpot.score(X, y))"
   ]
  },
  {
   "cell_type": "code",
   "execution_count": 16,
   "metadata": {
    "collapsed": false,
    "deletable": true,
    "editable": true
   },
   "outputs": [
    {
     "data": {
      "text/plain": [
       "ExtraTreesClassifier(bootstrap=False, class_weight=None, criterion='entropy',\n",
       "           max_depth=None, max_features=0.75, max_leaf_nodes=None,\n",
       "           min_impurity_split=1e-07, min_samples_leaf=1,\n",
       "           min_samples_split=8, min_weight_fraction_leaf=0.0,\n",
       "           n_estimators=100, n_jobs=1, oob_score=False, random_state=None,\n",
       "           verbose=0, warm_start=False)"
      ]
     },
     "execution_count": 16,
     "metadata": {},
     "output_type": "execute_result"
    }
   ],
   "source": [
    "from sklearn.ensemble import ExtraTreesClassifier\n",
    "\n",
    "etc = ExtraTreesClassifier(criterion='entropy', max_features=0.75, min_samples_split=8, n_estimators=100)\n",
    "etc.fit(X_train, y_train)"
   ]
  },
  {
   "cell_type": "code",
   "execution_count": 17,
   "metadata": {
    "collapsed": false,
    "deletable": true,
    "editable": true
   },
   "outputs": [
    {
     "name": "stdout",
     "output_type": "stream",
     "text": [
      "[[68 11]\n",
      " [28 14]]\n",
      "             precision    recall  f1-score   support\n",
      "\n",
      "          0       0.71      0.86      0.78        79\n",
      "          1       0.56      0.33      0.42        42\n",
      "\n",
      "avg / total       0.66      0.68      0.65       121\n",
      "\n",
      "0.677685950413\n"
     ]
    }
   ],
   "source": [
    "predictions = etc.predict(X_test)\n",
    "prediction_probability = etc.predict_proba(X_test)\n",
    "\n",
    "print metrics.confusion_matrix(y_test, predictions)\n",
    "print metrics.classification_report(y_test, predictions)\n",
    "print etc.score(X_test, y_test)"
   ]
  },
  {
   "cell_type": "code",
   "execution_count": null,
   "metadata": {
    "collapsed": true,
    "deletable": true,
    "editable": true
   },
   "outputs": [],
   "source": [
    "course_data.corr()"
   ]
  },
  {
   "cell_type": "code",
   "execution_count": 18,
   "metadata": {
    "collapsed": false,
    "deletable": true,
    "editable": true
   },
   "outputs": [
    {
     "data": {
      "image/png": "[encoded data removed]",
      "text/plain": [
       "<matplotlib.figure.Figure at 0xc2262e8>"
      ]
     },
     "metadata": {},
     "output_type": "display_data"
    }
   ],
   "source": [
    "# Dispay the featured_cols (predictors of enrollment) in order of importance to the classifier\n",
    "feature_importances = pd.Series(etc.feature_importances_, index=X.columns)\n",
    "feature_importances.sort_values(inplace=True)\n",
    "feature_importances.plot(kind=\"barh\", figsize=(10,15));"
   ]
  },
  {
   "cell_type": "code",
   "execution_count": null,
   "metadata": {
    "collapsed": false,
    "deletable": true,
    "editable": true
   },
   "outputs": [],
   "source": [
    "# Test out model on courses that haven't ended yet\n",
    "new_query = \"\"\"\n",
    "SELECT\n",
    "\ta.course_id,\n",
    "    LiberalArts,\n",
    "    STEM,\n",
    "    Business,\n",
    "\tcnt_subjects,\n",
    "\tis_WL,\n",
    "\tlevel_type,\n",
    "\tpacing_type,\n",
    "\tcourse_partner,\n",
    "\tCASE\n",
    "\t\tWHEN course_partner IN ('MITx', 'HarvardX', 'BerkeleyX', 'UTArlingtonX', 'UTAustinX', 'UTHealthSPHx', 'UTPermianBasin', 'UTSanAntonioX', 'UTMBx', 'UQx', 'DelftX') THEN 1 ELSE 0\n",
    "\tEND AS trust_bar_tier_1,\n",
    "\tCASE\n",
    "\t\tWHEN course_partner IN ('BUx', 'SorbonneX', 'UBCx', 'USMx', 'GeorgetownX', 'AdelaideX') THEN 1 ELSE 0\n",
    "\tEND AS trust_bar_tier_2,\n",
    "\tCASE\n",
    "\t\tWHEN course_partner IN ('RWTHx', 'ANUx') THEN 1 ELSE 0\n",
    "\tEND AS trust_bar_tier_3,\n",
    "\tCASE\n",
    "\t\tWHEN course_partner IN ('MITx', 'HarvardX', 'BerkeleyX', 'CaltechX', 'OxfordX', 'ColumbiaX') THEN 1 ELSE 0\n",
    "\tEND AS top_10_school,\n",
    "\tcourse_run_number,\n",
    "\tXSeries,\n",
    "\tProfessionalCertificate,\n",
    "\tMicroMasters,\n",
    "\tNonProgram,\n",
    "\taudit_track,\n",
    "\tverified_track,\n",
    "\tprofessional_track,\n",
    "\tcredit_track,\n",
    "\tcnt_available_tracks,\n",
    "\tYEAR(course_start_date) AS yr_started,\n",
    "\tQUARTER(course_start_date) AS qtr_started,\n",
    "\tMONTH(course_start_date) AS mth_started,\n",
    "\tDAYOFMONTH(course_start_date) AS day_of_month_started,\n",
    "\tDAYOFWEEK(course_start_date) AS day_of_week_started,\n",
    "\tYEAR(course_end_date) AS yr_ended,\n",
    "\tQUARTER(course_end_date) AS qtr_ended,\n",
    "\tMONTH(course_end_date) AS mth_ended,\n",
    "\tDAYOFMONTH(course_end_date) AS day_of_month_ended,\n",
    "\tDAYOFWEEK(course_end_date) AS day_of_week_ended,\n",
    "\tDATEDIFF(day, course_start_date, course_end_date) AS course_open_length,\n",
    "\tDATEDIFF(day, course_start_date, course_verification_end_date) AS course_verification_window,\n",
    "    TAs,\n",
    "    registrations,\n",
    "\tsum_enrolls,\n",
    "\tsum_enrolls/DATEDIFF(day, course_start_date, course_end_date) AS daily_enrollment_rate,\n",
    "\tsum_unenrolls/sum_enrolls AS pct_unenroll,\n",
    "\tsum_unenrolls,\n",
    "\tsum_unenrolls/DATEDIFF(day, course_start_date, course_end_date) AS daily_unenrollment_rate,\n",
    "\tsum_verifications,\n",
    "\tvtr,\n",
    "\tbookings_rank,\n",
    "    bookings_per_course_rank,\n",
    "\tCAST(sum_bookings AS INT) AS sum_bookings\n",
    "FROM\n",
    "\ted_services.course_subjects a\n",
    "LEFT JOIN\n",
    "\tbusiness_intelligence.course_stats_summary b\n",
    "ON\n",
    "\ta.course_id = b.course_id\n",
    "LEFT JOIN\n",
    "\tbusiness_intelligence.course_master c\n",
    "ON\n",
    "\ta.course_id = c.course_id\n",
    "LEFT JOIN\n",
    "\ted_services.course_program d\n",
    "ON\n",
    "\ta.course_id = d.course_id\n",
    "LEFT JOIN\n",
    "\ted_services.course_track e\n",
    "ON\n",
    "\ta.course_id = e.course_id\n",
    "LEFT JOIN\n",
    "\ted_services.partner_rankings f\n",
    "ON\n",
    "\tc.course_partner = f.org_id\n",
    "LEFT JOIN\n",
    "\ted_services.course_grouping g\n",
    "ON\n",
    "\ta.course_id = g.course_id\n",
    "LEFT JOIN\n",
    "\ted_services.registrations h\n",
    "ON\n",
    "\tYEAR(course_start_date) = h.yr\n",
    "AND\n",
    "\tQUARTER(course_start_date) = h.qtr\n",
    "AND\n",
    "\tMONTH(course_start_date) = h.mth\n",
    "LEFT JOIN\n",
    "\ted_services.course_staff i\n",
    "ON\n",
    "\ta.course_id = i.course_id\n",
    "WHERE\n",
    "    course_end_date > GETDATE()\n",
    "AND\n",
    "    course_start_date < GETDATE();\n",
    "\"\"\"\n",
    "\n",
    "# Execute the Query from above\n",
    "cur.execute(new_query)\n",
    "\n",
    "# Dump the query results into a Pandas DataFrame\n",
    "new_course_data = pd.DataFrame(cur.fetchall())"
   ]
  },
  {
   "cell_type": "code",
   "execution_count": null,
   "metadata": {
    "collapsed": false,
    "deletable": true,
    "editable": true
   },
   "outputs": [],
   "source": [
    "new_course_data['course_verification_window'] = new_course_data['course_verification_window'].fillna(new_course_data['course_verification_window'].median())\n",
    "new_course_data['sum_bookings'] = new_course_data['sum_bookings'].fillna(new_course_data['sum_bookings'].mean())\n",
    "new_course_data['TAs'] = new_course_data['TAs'].fillna(new_course_data['TAs'].median())\n",
    "\n",
    "new_course_data['High Performing Course'] = (new_course_data.sum_enrolls > course_data['sum_enrolls'].quantile(.66)).astype(int)\n",
    "#new_course_data['High Performing Course'] = (new_course_data.sum_bookings > new_course_data['sum_bookings'].median()).astype(int)\n",
    "\n",
    "\n",
    "new_course_data = pd.concat([new_course_data, pd.get_dummies(new_course_data['pacing_type'])], axis=1)\n",
    "new_course_data = pd.concat([new_course_data, pd.get_dummies(new_course_data['level_type'])], axis=1)"
   ]
  },
  {
   "cell_type": "code",
   "execution_count": null,
   "metadata": {
    "collapsed": true,
    "deletable": true,
    "editable": true
   },
   "outputs": [],
   "source": [
    "X_new = new_course_data[feature_cols]\n",
    "\n",
    "new_course_data['Predictions'] = gbc.predict(X_new)"
   ]
  },
  {
   "cell_type": "code",
   "execution_count": null,
   "metadata": {
    "collapsed": false,
    "deletable": true,
    "editable": true
   },
   "outputs": [],
   "source": [
    "print metrics.confusion_matrix(new_course_data['High Performing Course'], new_course_data['Predictions'])\n",
    "print metrics.classification_report(new_course_data['High Performing Course'], new_course_data['Predictions'])"
   ]
  },
  {
   "cell_type": "code",
   "execution_count": null,
   "metadata": {
    "collapsed": true,
    "deletable": true,
    "editable": true
   },
   "outputs": [],
   "source": [
    "display_cols = ['course_id', 'sum_enrolls', 'Predictions', 'High Performing Course']\n",
    "\n",
    "new_course_data[display_cols]"
   ]
  },
  {
   "cell_type": "code",
   "execution_count": null,
   "metadata": {
    "collapsed": true,
    "deletable": true,
    "editable": true
   },
   "outputs": [],
   "source": [
    "# Create feature columns which will be used as factors to determine [y]\n",
    "feature_cols = ['LiberalArts',\n",
    "                'STEM',\n",
    "                'Business',\n",
    "                'cnt_subjects',\n",
    "                'Advanced',\n",
    "                'Intermediate',\n",
    "                'Introductory',\n",
    "                'self_paced',\n",
    "                'instructor_paced',\n",
    "                'course_run_number',\n",
    "                'XSeries',\n",
    "                #'ProfessionalCertificate',\n",
    "                'MicroMasters',\n",
    "                'NonProgram',\n",
    "                'cnt_available_tracks',\n",
    "                'yr_started',\n",
    "                'qtr_started',\n",
    "                'mth_started',\n",
    "                'yr_ended',\n",
    "                'qtr_ended',\n",
    "                'mth_ended',\n",
    "                'course_open_length',\n",
    "                'course_verification_window',\n",
    "                'trust_bar_tier_1',\n",
    "                'trust_bar_tier_2',\n",
    "                #'trust_bar_tier_3',\n",
    "                'top_10_school',\n",
    "                'bookings_per_course_rank',\n",
    "                'registrations',\n",
    "                'TAs'\n",
    "                ]\n",
    "\n",
    "\n",
    "X = course_data[feature_cols]\n",
    "# y for classification\n",
    "#y = course_data['High Performing Course']\n",
    "# y for regressor\n",
    "y = course_data['sum_enrolls']\n",
    "# For classification of 3 categories\n",
    "#y = course_data['bookings_cat']"
   ]
  },
  {
   "cell_type": "code",
   "execution_count": null,
   "metadata": {
    "collapsed": true,
    "deletable": true,
    "editable": true
   },
   "outputs": [],
   "source": [
    "# Split the data into testing and training for above average bookings classification\n",
    "X_train, X_test, y_train, y_test = train_test_split(course_data[feature_cols], course_data['sum_enrolls'], test_size=0.20, random_state=42)"
   ]
  },
  {
   "cell_type": "code",
   "execution_count": null,
   "metadata": {
    "collapsed": false,
    "deletable": true,
    "editable": true
   },
   "outputs": [],
   "source": [
    "# Using the TPOT classifier to figure out the best model to use\n",
    "from tpot import TPOTRegressor\n",
    "\n",
    "tpot = TPOTRegressor(generations=10, verbosity=2)\n",
    "tpot.fit(X_train, y_train)\n",
    "print(tpot.score(X_test, y_test))"
   ]
  },
  {
   "cell_type": "code",
   "execution_count": null,
   "metadata": {
    "collapsed": false,
    "deletable": true,
    "editable": true
   },
   "outputs": [],
   "source": [
    "from sklearn.ensemble import RandomForestRegressor\n",
    "from sklearn.linear_model import RidgeCV\n",
    "\n",
    "rf_regressor = RandomForestRegressor(max_features=.5, min_samples_leaf=4)\n",
    "\n",
    "rf_regressor.fit(X_train, y_train)"
   ]
  },
  {
   "cell_type": "code",
   "execution_count": null,
   "metadata": {
    "collapsed": false,
    "deletable": true,
    "editable": true
   },
   "outputs": [],
   "source": [
    "predictions = tpot.predict(X_test)\n",
    "tpot.score(X_test, y_test)"
   ]
  },
  {
   "cell_type": "code",
   "execution_count": null,
   "metadata": {
    "collapsed": true,
    "deletable": true,
    "editable": true
   },
   "outputs": [],
   "source": [
    "X_new = new_course_data[feature_cols]\n",
    "\n",
    "new_course_data['Predictions'] = tpot.predict(X_new)"
   ]
  },
  {
   "cell_type": "code",
   "execution_count": null,
   "metadata": {
    "collapsed": true,
    "deletable": true,
    "editable": true
   },
   "outputs": [],
   "source": [
    "display_cols = ['course_id', 'sum_enrolls', 'Predictions', 'High Performing Course']\n",
    "\n",
    "new_course_data[display_cols]"
   ]
  }
 ],
 "metadata": {
  "kernelspec": {
   "display_name": "Python 2",
   "language": "python",
   "name": "python2"
  },
  "language_info": {
   "codemirror_mode": {
    "name": "ipython",
    "version": 2
   },
   "file_extension": ".py",
   "mimetype": "text/x-python",
   "name": "python",
   "nbconvert_exporter": "python",
   "pygments_lexer": "ipython2",
   "version": "2.7.13"
  }
 },
 "nbformat": 4,
 "nbformat_minor": 2
}
