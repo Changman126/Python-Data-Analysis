{
 "cells": [
  {
   "cell_type": "markdown",
   "metadata": {},
   "source": [
    "# Chapter 2\n",
    "\n",
    "Summarizing Distributions\n",
    "\n",
    "- Characteristics\n",
    "    - Central Tendency: Do the values tend to cluster around a particular point? (Mean)\n",
    "    - Modes: Is there more than one cluster\n",
    "    - Spread: How much variability is there in the values\n",
    "    - Tails: How quickly do the probabilities drop off as we move away from the modes?\n",
    "    - Outliers: Are there extreme values far from the nodes?\n",
    "\n",
    "- Variance\n",
    "    - Summary Statistic intended to describe the variability or spread of a distribution\n",
    "    - Mean Squared Deviation\n",
    "    - Standard Deviation: used as a measure of spread\n",
    "    - Variance is useful in some calculations but is not a good summary statistic\n",
    "    \n",
    "- Effect Size\n",
    "    - Summary statistic intended to describe the size of an effect, quantify the size of an effect like the difference between groups\n",
    "    - One obvious way is the difference between means\n",
    "    \n",
    "    "
   ]
  },
  {
   "cell_type": "code",
   "execution_count": null,
   "metadata": {
    "collapsed": true
   },
   "outputs": [],
   "source": []
  }
 ],
 "metadata": {
  "kernelspec": {
   "display_name": "Python 2",
   "language": "python",
   "name": "python2"
  },
  "language_info": {
   "codemirror_mode": {
    "name": "ipython",
    "version": 2
   },
   "file_extension": ".py",
   "mimetype": "text/x-python",
   "name": "python",
   "nbconvert_exporter": "python",
   "pygments_lexer": "ipython2",
   "version": "2.7.13"
  }
 },
 "nbformat": 4,
 "nbformat_minor": 2
}
