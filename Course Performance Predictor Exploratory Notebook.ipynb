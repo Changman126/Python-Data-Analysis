{
 "cells": [
  {
   "cell_type": "code",
   "execution_count": 1,
   "metadata": {
    "collapsed": true
   },
   "outputs": [],
   "source": [
    "# Import necessary libraries/modules\n",
    "import vertica_python\n",
    "import pandas as pd\n",
    "import numpy as np\n",
    "import seaborn as sns\n",
    "import matplotlib.pyplot as plt\n",
    "%matplotlib inline\n",
    "\n",
    "import os"
   ]
  },
  {
   "cell_type": "code",
   "execution_count": 2,
   "metadata": {
    "collapsed": true
   },
   "outputs": [],
   "source": [
    "# Set up the Vertica Connection Information\n",
    "username = os.getenv('VERTICA_USERNAME')\n",
    "password = os.getenv('VERTICA_PASSWORD')\n",
    "\n",
    "conn_info = {'host': 'warehouse.analytics.edx.org',\n",
    "             'port': 5433,\n",
    "             'user': username,\n",
    "             'password': password,\n",
    "             'database': 'warehouse',\n",
    "             'read_timeout': 600,\n",
    "             'unicode_error': 'strict',\n",
    "             'ssl': False\n",
    "            }\n",
    "\n",
    "connection = vertica_python.connect(**conn_info)\n",
    "cur = connection.cursor('dict')"
   ]
  },
  {
   "cell_type": "code",
   "execution_count": 28,
   "metadata": {
    "collapsed": false
   },
   "outputs": [
    {
     "data": {
      "text/html": [
       "<div>\n",
       "<table border=\"1\" class=\"dataframe\">\n",
       "  <thead>\n",
       "    <tr style=\"text-align: right;\">\n",
       "      <th></th>\n",
       "      <th>pacing_type</th>\n",
       "      <th>courses</th>\n",
       "    </tr>\n",
       "  </thead>\n",
       "  <tbody>\n",
       "    <tr>\n",
       "      <th>0</th>\n",
       "      <td>instructor_paced</td>\n",
       "      <td>2714</td>\n",
       "    </tr>\n",
       "    <tr>\n",
       "      <th>1</th>\n",
       "      <td>self_paced</td>\n",
       "      <td>1158</td>\n",
       "    </tr>\n",
       "    <tr>\n",
       "      <th>2</th>\n",
       "      <td>None</td>\n",
       "      <td>358</td>\n",
       "    </tr>\n",
       "  </tbody>\n",
       "</table>\n",
       "</div>"
      ],
      "text/plain": [
       "        pacing_type  courses\n",
       "0  instructor_paced     2714\n",
       "1        self_paced     1158\n",
       "2              None      358"
      ]
     },
     "execution_count": 28,
     "metadata": {},
     "output_type": "execute_result"
    }
   ],
   "source": [
    "# Looking at what data points will be missing from our data set\n",
    "# Primarily based on business_intelligence.course_master\n",
    "# business_intelligence.course_master has ~4000+ course_ids to start before we filter out courses missing data\n",
    "\n",
    "query = \"\"\"\n",
    "SELECT\n",
    "    pacing_type,\n",
    "    COUNT(*) AS courses\n",
    "FROM\n",
    "    business_intelligence.course_master\n",
    "GROUP BY\n",
    "    pacing_type;\n",
    "\"\"\"\n",
    "\n",
    "cur.execute(query)\n",
    "\n",
    "cm = pd.DataFrame(cur.fetchall())\n",
    "\n",
    "cm\n",
    "\n",
    "# Not a significant amount of enrollments for courses missing pacing type\n",
    "# With the exception of course-v1:MITx+6.002x+MITx_2012_Alumni which has 150K enrollments\n",
    "# This might be the one off course Circuits and Electronics that had a ton of people moved\n",
    "# We can probably feel pretty safe removing those courses from the data set"
   ]
  },
  {
   "cell_type": "code",
   "execution_count": 35,
   "metadata": {
    "collapsed": false
   },
   "outputs": [
    {
     "data": {
      "text/html": [
       "<div>\n",
       "<table border=\"1\" class=\"dataframe\">\n",
       "  <thead>\n",
       "    <tr style=\"text-align: right;\">\n",
       "      <th></th>\n",
       "      <th>pacing_type</th>\n",
       "      <th>courses</th>\n",
       "    </tr>\n",
       "  </thead>\n",
       "  <tbody>\n",
       "    <tr>\n",
       "      <th>0</th>\n",
       "      <td>instructor_paced</td>\n",
       "      <td>1913</td>\n",
       "    </tr>\n",
       "    <tr>\n",
       "      <th>1</th>\n",
       "      <td>self_paced</td>\n",
       "      <td>475</td>\n",
       "    </tr>\n",
       "    <tr>\n",
       "      <th>2</th>\n",
       "      <td>None</td>\n",
       "      <td>27</td>\n",
       "    </tr>\n",
       "  </tbody>\n",
       "</table>\n",
       "</div>"
      ],
      "text/plain": [
       "        pacing_type  courses\n",
       "0  instructor_paced     1913\n",
       "1        self_paced      475\n",
       "2              None       27"
      ]
     },
     "execution_count": 35,
     "metadata": {},
     "output_type": "execute_result"
    }
   ],
   "source": [
    "# Looking at distribution by pacing type for courses that have ended\n",
    "query = \"\"\"\n",
    "SELECT\n",
    "    pacing_type,\n",
    "    COUNT(*) AS courses\n",
    "FROM\n",
    "    business_intelligence.course_master\n",
    "WHERE\n",
    "    course_end_date <= CURRENT_DATE()\n",
    "GROUP BY\n",
    "    pacing_type;\n",
    "\"\"\"\n",
    "\n",
    "cur.execute(query)\n",
    "\n",
    "df = pd.DataFrame(cur.fetchall())\n",
    "\n",
    "df\n",
    "\n",
    "# We have a decent sample of instructor paced courses that have ended\n",
    "# However, not as many self paced courses that have ended\n",
    "# This could be due to Self Paced courses being open longer"
   ]
  },
  {
   "cell_type": "code",
   "execution_count": 45,
   "metadata": {
    "collapsed": false
   },
   "outputs": [
    {
     "data": {
      "text/html": [
       "<div>\n",
       "<table border=\"1\" class=\"dataframe\">\n",
       "  <thead>\n",
       "    <tr style=\"text-align: right;\">\n",
       "      <th></th>\n",
       "      <th>pacing_type</th>\n",
       "      <th>courses</th>\n",
       "    </tr>\n",
       "  </thead>\n",
       "  <tbody>\n",
       "    <tr>\n",
       "      <th>0</th>\n",
       "      <td>self_paced</td>\n",
       "      <td>767</td>\n",
       "    </tr>\n",
       "    <tr>\n",
       "      <th>1</th>\n",
       "      <td>instructor_paced</td>\n",
       "      <td>1992</td>\n",
       "    </tr>\n",
       "  </tbody>\n",
       "</table>\n",
       "</div>"
      ],
      "text/plain": [
       "        pacing_type  courses\n",
       "0        self_paced      767\n",
       "1  instructor_paced     1992"
      ]
     },
     "execution_count": 45,
     "metadata": {},
     "output_type": "execute_result"
    }
   ],
   "source": [
    "# How do we increase sample size of Self Paced courses knowing that these courses are open longer?\n",
    "query = \"\"\"\n",
    "SELECT\n",
    "    pacing_type,\n",
    "    COUNT(*) AS courses\n",
    "FROM\n",
    "    business_intelligence.course_master\n",
    "WHERE\n",
    "    course_start_date + 90 <= CURRENT_DATE()\n",
    "GROUP BY\n",
    "    pacing_type;\n",
    "\"\"\"\n",
    "\n",
    "cur.execute(query)\n",
    "\n",
    "df = pd.DataFrame(cur.fetchall())\n",
    "\n",
    "df\n",
    "\n",
    "# If we look at Self Paced courses that have started for at least 90 days\n",
    "# We can almost double the sample size"
   ]
  },
  {
   "cell_type": "code",
   "execution_count": 55,
   "metadata": {
    "collapsed": true
   },
   "outputs": [],
   "source": [
    "# Putting together a query to look at course announce, start, end, and verification date distributions\n",
    "# We have courses without announcement dates or with announcement dates that come after the start date\n",
    "\n",
    "query = \"\"\"\n",
    "SELECT\n",
    "\tDATEDIFF(day, course_announcement_date, course_start_date) AS announcement_window,\n",
    "\t*\n",
    "FROM\n",
    "\tbusiness_intelligence.course_master\n",
    "WHERE\n",
    "\tcourse_announcement_date <= CURRENT_DATE()\n",
    "AND\n",
    "\tDATEDIFF(day, course_announcement_date, course_start_date) >= 0\n",
    "AND\n",
    "    pacing_type IS NOT NULL\n",
    "\"\"\"\n",
    "\n",
    "cur.execute(query)\n",
    "\n",
    "announcement = pd.DataFrame(cur.fetchall())"
   ]
  },
  {
   "cell_type": "code",
   "execution_count": 56,
   "metadata": {
    "collapsed": false
   },
   "outputs": [
    {
     "data": {
      "text/plain": [
       "[(0, 300)]"
      ]
     },
     "execution_count": 56,
     "metadata": {},
     "output_type": "execute_result"
    },
    {
     "data": {
      "image/png": "[encoded data removed]",
      "text/plain": [
       "<matplotlib.figure.Figure at 0xf3afc50>"
      ]
     },
     "metadata": {},
     "output_type": "display_data"
    }
   ],
   "source": [
    "# Here we see instructor paced courses tend to have a longer announcement window\n",
    "\n",
    "ax = sns.boxplot(x=announcement['announcement_window'], y=announcement['pacing_type'])\n",
    "ax.set(xlim=(0, 300))"
   ]
  },
  {
   "cell_type": "code",
   "execution_count": 60,
   "metadata": {
    "collapsed": false
   },
   "outputs": [],
   "source": [
    "# Looking at course open length; when content is available (Start to End Date)\n",
    "\n",
    "query = \"\"\"\n",
    "SELECT\n",
    "\tDATEDIFF(day, course_start_date, course_end_date) AS course_open_length,\n",
    "\t*\n",
    "FROM\n",
    "\tbusiness_intelligence.course_master\n",
    "WHERE\n",
    "\tDATEDIFF(day, course_start_date, course_end_date) > 0;\n",
    "\"\"\"\n",
    "\n",
    "cur.execute(query)\n",
    "\n",
    "open_length = pd.DataFrame(cur.fetchall())"
   ]
  },
  {
   "cell_type": "code",
   "execution_count": 65,
   "metadata": {
    "collapsed": false
   },
   "outputs": [
    {
     "data": {
      "text/plain": [
       "[(0, 800)]"
      ]
     },
     "execution_count": 65,
     "metadata": {},
     "output_type": "execute_result"
    },
    {
     "data": {
      "image/png": "[encoded data removed]",
      "text/plain": [
       "<matplotlib.figure.Figure at 0xe203908>"
      ]
     },
     "metadata": {},
     "output_type": "display_data"
    }
   ],
   "source": [
    "# Self Paced Courses are open much longer than instructor paced courses\n",
    "\n",
    "ax = sns.boxplot(x=open_length['course_open_length'], y=open_length['pacing_type'])\n",
    "ax.set(xlim=(0, 800))"
   ]
  },
  {
   "cell_type": "code",
   "execution_count": 71,
   "metadata": {
    "collapsed": true
   },
   "outputs": [],
   "source": [
    "# Looking at course verification window (Start to Verification End Date)\n",
    "\n",
    "query = \"\"\"\n",
    "SELECT\n",
    "\tDATEDIFF(day, course_start_date, course_verification_end_date) AS course_verification_window,\n",
    "\t*\n",
    "FROM\n",
    "\tbusiness_intelligence.course_master\n",
    "WHERE\n",
    "\tDATEDIFF(day, course_start_date, course_verification_end_date) > 0;\n",
    "\"\"\"\n",
    "\n",
    "cur.execute(query)\n",
    "\n",
    "verification_window = pd.DataFrame(cur.fetchall())"
   ]
  },
  {
   "cell_type": "code",
   "execution_count": 72,
   "metadata": {
    "collapsed": false
   },
   "outputs": [
    {
     "data": {
      "text/plain": [
       "[(0, 800)]"
      ]
     },
     "execution_count": 72,
     "metadata": {},
     "output_type": "execute_result"
    },
    {
     "data": {
      "image/png": "[encoded data removed]",
      "text/plain": [
       "<matplotlib.figure.Figure at 0xf082358>"
      ]
     },
     "metadata": {},
     "output_type": "display_data"
    }
   ],
   "source": [
    "# In line with course length, course verification window is much longer for self paced courses than instructor paced\n",
    "\n",
    "ax = sns.boxplot(x=verification_window['course_verification_window'], y=verification_window['pacing_type'])\n",
    "ax.set(xlim=(0, 800))"
   ]
  },
  {
   "cell_type": "code",
   "execution_count": null,
   "metadata": {
    "collapsed": true
   },
   "outputs": [],
   "source": [
    "# Most of our course offerings are in English though we have more spanish language courses coming up\n",
    "\n",
    "query = \"\"\"\n",
    "SELECT\n",
    "\tcontent_language,\n",
    "\tCOUNT(*) AS courses\n",
    "FROM\n",
    "\tbusiness_intelligence.course_master\n",
    "WHERE\n",
    "\tcontent_language IS NOT NULL\n",
    "AND\n",
    "\tpacing_type IS NOT NULL\n",
    "AND\n",
    "\tcourse_end_date <= CURRENT_DATE()\n",
    "GROUP BY\n",
    "\t1\n",
    "\"\"\""
   ]
  },
  {
   "cell_type": "code",
   "execution_count": null,
   "metadata": {
    "collapsed": true
   },
   "outputs": [],
   "source": [
    "# Enrollment/Verification Depreciation per Course Run Number\n",
    "\n",
    "query = \"\"\"\n",
    "SELECT\n",
    "\tcourse_run_number,\n",
    "\tCOUNT(*) AS course_runs,\n",
    "\tSUM(sum_enrolls) AS enrollments,\n",
    "\tSUM(sum_verifications) AS verifications,\n",
    "\tSUM(sum_enrolls)/COUNT(*) AS enrolls_per_course_run,\n",
    "\tSUM(sum_verifications)/COUNT(*) AS verifications_per_course_run\n",
    "FROM\n",
    "\tbusiness_intelligence.course_master a\n",
    "LEFT JOIN\n",
    "\tbusiness_intelligence.course_stats_summary b\n",
    "ON\n",
    "\ta.course_id = b.course_id\n",
    "GROUP BY\n",
    "\tcourse_run_number;\n",
    "\"\"\""
   ]
  }
 ],
 "metadata": {
  "kernelspec": {
   "display_name": "Python 2",
   "language": "python",
   "name": "python2"
  },
  "language_info": {
   "codemirror_mode": {
    "name": "ipython",
    "version": 2
   },
   "file_extension": ".py",
   "mimetype": "text/x-python",
   "name": "python",
   "nbconvert_exporter": "python",
   "pygments_lexer": "ipython2",
   "version": "2.7.13"
  }
 },
 "nbformat": 4,
 "nbformat_minor": 2
}
