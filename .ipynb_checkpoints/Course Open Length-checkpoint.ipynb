{
 "cells": [
  {
   "cell_type": "code",
   "execution_count": 1,
   "metadata": {
    "collapsed": true
   },
   "outputs": [],
   "source": [
    "# Import necessary libraries/modules\n",
    "import vertica_python\n",
    "import pandas as pd\n",
    "import numpy as np\n",
    "import seaborn as sns\n",
    "import matplotlib.pyplot as plt\n",
    "%matplotlib inline\n",
    "import os"
   ]
  },
  {
   "cell_type": "code",
   "execution_count": 2,
   "metadata": {
    "collapsed": true
   },
   "outputs": [],
   "source": [
    "# Set up the Vertica Connection Information\n",
    "username = os.getenv('VERTICA_USERNAME')\n",
    "password = os.getenv('VERTICA_PASSWORD')\n",
    "\n",
    "conn_info = {'host': 'warehouse.analytics.edx.org',\n",
    "             'port': 5433,\n",
    "             'user': username,\n",
    "             'password': password,\n",
    "             'database': 'warehouse',\n",
    "             'read_timeout': 600,\n",
    "             'unicode_error': 'strict',\n",
    "             'ssl': False\n",
    "            }\n",
    "\n",
    "connection = vertica_python.connect(**conn_info)\n",
    "cur = connection.cursor('dict')"
   ]
  },
  {
   "cell_type": "markdown",
   "metadata": {},
   "source": [
    "# Instructor Paced Courses"
   ]
  },
  {
   "cell_type": "code",
   "execution_count": 11,
   "metadata": {
    "collapsed": true
   },
   "outputs": [],
   "source": [
    "query = \"\"\"\n",
    "SELECT\n",
    "\ta.course_id,\n",
    "\tDATEDIFF(day, course_start_date, course_end_date) AS open_length,\n",
    "\tpacing_type,\n",
    "\tlevel_type,\n",
    "    course_partner,\n",
    "    content_language,\n",
    "    course_run_number,\n",
    "\tsum_enrolls,\n",
    "    sum_bookings\n",
    "FROM\n",
    "\tbusiness_intelligence.course_master a\n",
    "LEFT JOIN\n",
    "\tbusiness_intelligence.course_stats_summary b\n",
    "ON\n",
    "\ta.course_id = b.course_id\n",
    "WHERE\n",
    "    course_start_date <= CURRENT_DATE()\n",
    "AND\n",
    "\tcourse_end_date <= CURRENT_DATE()\n",
    "AND\n",
    "\tDATEDIFF(day, course_start_date, course_end_date)>0\n",
    "AND\n",
    "\tpacing_type = 'instructor_paced';\n",
    "\"\"\"\n",
    "\n",
    "cur.execute(query)\n",
    "\n",
    "instructor_paced = pd.DataFrame(cur.fetchall())"
   ]
  },
  {
   "cell_type": "code",
   "execution_count": 8,
   "metadata": {
    "collapsed": false
   },
   "outputs": [
    {
     "data": {
      "text/plain": [
       "[(0, 200)]"
      ]
     },
     "execution_count": 8,
     "metadata": {},
     "output_type": "execute_result"
    },
    {
     "data": {
      "image/png": "[encoded data removed]",
      "text/plain": [
       "<matplotlib.figure.Figure at 0xc13a390>"
      ]
     },
     "metadata": {},
     "output_type": "display_data"
    }
   ],
   "source": [
    "ax = sns.boxplot(x=instructor_paced['open_length'])\n",
    "ax.set(xlim=(0, 200))"
   ]
  },
  {
   "cell_type": "markdown",
   "metadata": {},
   "source": [
    "# Is there a relationship between course open length and enrollments?"
   ]
  },
  {
   "cell_type": "code",
   "execution_count": 9,
   "metadata": {
    "collapsed": false
   },
   "outputs": [
    {
     "data": {
      "image/png": "[encoded data removed]",
      "text/plain": [
       "<matplotlib.figure.Figure at 0xc012be0>"
      ]
     },
     "metadata": {},
     "output_type": "display_data"
    }
   ],
   "source": [
    "ax = sns.regplot(x=instructor_paced['open_length'], y=instructor_paced['sum_enrolls'], fit_reg=False)"
   ]
  },
  {
   "cell_type": "code",
   "execution_count": 12,
   "metadata": {
    "collapsed": false
   },
   "outputs": [
    {
     "name": "stderr",
     "output_type": "stream",
     "text": [
      "C:\\Users\\ochang\\AppData\\Local\\Continuum\\Anaconda2\\lib\\site-packages\\ipykernel\\__main__.py:4: SettingWithCopyWarning: \n",
      "A value is trying to be set on a copy of a slice from a DataFrame\n",
      "\n",
      "See the caveats in the documentation: http://pandas.pydata.org/pandas-docs/stable/indexing.html#indexing-view-versus-copy\n",
      "C:\\Users\\ochang\\AppData\\Local\\Continuum\\Anaconda2\\lib\\site-packages\\ipykernel\\__main__.py:5: SettingWithCopyWarning: \n",
      "A value is trying to be set on a copy of a slice from a DataFrame\n",
      "\n",
      "See the caveats in the documentation: http://pandas.pydata.org/pandas-docs/stable/indexing.html#indexing-view-versus-copy\n",
      "C:\\Users\\ochang\\AppData\\Local\\Continuum\\Anaconda2\\lib\\site-packages\\ipykernel\\__main__.py:6: SettingWithCopyWarning: \n",
      "A value is trying to be set on a copy of a slice from a DataFrame\n",
      "\n",
      "See the caveats in the documentation: http://pandas.pydata.org/pandas-docs/stable/indexing.html#indexing-view-versus-copy\n",
      "C:\\Users\\ochang\\AppData\\Local\\Continuum\\Anaconda2\\lib\\site-packages\\ipykernel\\__main__.py:7: SettingWithCopyWarning: \n",
      "A value is trying to be set on a copy of a slice from a DataFrame\n",
      "\n",
      "See the caveats in the documentation: http://pandas.pydata.org/pandas-docs/stable/indexing.html#indexing-view-versus-copy\n"
     ]
    }
   ],
   "source": [
    "# Splitting course announcement dates into Quartiles to see if there's a significant difference between announcement lead time and enrollments\n",
    "instructor_paced['Open Length Quartile'] = 'Null'\n",
    "\n",
    "instructor_paced['Open Length Quartile'][instructor_paced['open_length'] >= instructor_paced['open_length'].quantile(.75)] = 'Q4'\n",
    "instructor_paced['Open Length Quartile'][instructor_paced['open_length'] < instructor_paced['open_length'].quantile(.75)] = 'Q3'\n",
    "instructor_paced['Open Length Quartile'][instructor_paced['open_length'] < instructor_paced['open_length'].quantile(.50)] = 'Q2'\n",
    "instructor_paced['Open Length Quartile'][instructor_paced['open_length'] < instructor_paced['open_length'].quantile(.25)] = 'Q1'"
   ]
  },
  {
   "cell_type": "code",
   "execution_count": 14,
   "metadata": {
    "collapsed": false
   },
   "outputs": [
    {
     "name": "stdout",
     "output_type": "stream",
     "text": [
      "Open Length Quartile\n",
      "Q1    12206.539326\n",
      "Q2    10177.937608\n",
      "Q3    15020.484076\n",
      "Q4    18080.790021\n",
      "Name: sum_enrolls, dtype: float64\n",
      "Open Length Quartile\n",
      "Q1    5230.5\n",
      "Q2    6708.0\n",
      "Q3    8649.0\n",
      "Q4    8094.0\n",
      "Name: sum_enrolls, dtype: float64\n",
      "Open Length Quartile\n",
      "Q1     31.783708\n",
      "Q2     48.753022\n",
      "Q3     67.333333\n",
      "Q4    145.490644\n",
      "Name: open_length, dtype: float64\n",
      "Open Length Quartile\n",
      "Q1     34\n",
      "Q2     49\n",
      "Q3     66\n",
      "Q4    109\n",
      "Name: open_length, dtype: int64\n"
     ]
    }
   ],
   "source": [
    "# Group by Quartiles to see Mean/Median of Enrollments for each Announcement Window Quartile\n",
    "print instructor_paced.groupby(['Open Length Quartile'])['sum_enrolls'].mean()\n",
    "print instructor_paced.groupby(['Open Length Quartile'])['sum_enrolls'].median()\n",
    "\n",
    "print instructor_paced.groupby(['Open Length Quartile'])['open_length'].mean()\n",
    "print instructor_paced.groupby(['Open Length Quartile'])['open_length'].median()"
   ]
  },
  {
   "cell_type": "code",
   "execution_count": 15,
   "metadata": {
    "collapsed": false
   },
   "outputs": [
    {
     "data": {
      "text/plain": [
       "[(0, 50000)]"
      ]
     },
     "execution_count": 15,
     "metadata": {},
     "output_type": "execute_result"
    },
    {
     "data": {
      "image/png": "[encoded data removed]",
      "text/plain": [
       "<matplotlib.figure.Figure at 0xbdcfb70>"
      ]
     },
     "metadata": {},
     "output_type": "display_data"
    }
   ],
   "source": [
    "ax = sns.boxplot(x=instructor_paced['sum_enrolls'], y=instructor_paced['Open Length Quartile'], order=['Q4', 'Q3', 'Q2', 'Q1'])\n",
    "ax.set(xlim=(0, 50000))"
   ]
  },
  {
   "cell_type": "code",
   "execution_count": 16,
   "metadata": {
    "collapsed": false
   },
   "outputs": [
    {
     "name": "stdout",
     "output_type": "stream",
     "text": [
      "Ttest_indResult(statistic=-2.3042157644720507, pvalue=0.021455182714943372)\n"
     ]
    }
   ],
   "source": [
    "from scipy.stats import ttest_ind\n",
    "\n",
    "bottom_quartile = instructor_paced[instructor_paced['Open Length Quartile'] == 'Q1']['sum_enrolls']\n",
    "top_quartile = instructor_paced[instructor_paced['Open Length Quartile'] == 'Q4']['sum_enrolls']\n",
    "\n",
    "print (ttest_ind(bottom_quartile, top_quartile))"
   ]
  },
  {
   "cell_type": "markdown",
   "metadata": {},
   "source": [
    "# Self Paced Courses"
   ]
  },
  {
   "cell_type": "code",
   "execution_count": 17,
   "metadata": {
    "collapsed": true
   },
   "outputs": [],
   "source": [
    "query = \"\"\"\n",
    "SELECT\n",
    "\ta.course_id,\n",
    "\tDATEDIFF(day, course_start_date, course_end_date) AS open_length,\n",
    "\tpacing_type,\n",
    "\tlevel_type,\n",
    "    course_partner,\n",
    "    content_language,\n",
    "    course_run_number,\n",
    "\tsum_enrolls,\n",
    "    sum_bookings\n",
    "FROM\n",
    "\tbusiness_intelligence.course_master a\n",
    "LEFT JOIN\n",
    "\tbusiness_intelligence.course_stats_summary b\n",
    "ON\n",
    "\ta.course_id = b.course_id\n",
    "WHERE\n",
    "    course_start_date <= CURRENT_DATE()\n",
    "AND\n",
    "\tcourse_end_date <= CURRENT_DATE()\n",
    "AND\n",
    "\tDATEDIFF(day, course_start_date, course_end_date)>0\n",
    "AND\n",
    "\tpacing_type = 'self_paced';\n",
    "\"\"\"\n",
    "\n",
    "cur.execute(query)\n",
    "\n",
    "self_paced = pd.DataFrame(cur.fetchall())"
   ]
  },
  {
   "cell_type": "code",
   "execution_count": 21,
   "metadata": {
    "collapsed": false
   },
   "outputs": [
    {
     "data": {
      "text/plain": [
       "[(0, 800)]"
      ]
     },
     "execution_count": 21,
     "metadata": {},
     "output_type": "execute_result"
    },
    {
     "data": {
      "image/png": "[encoded data removed]",
      "text/plain": [
       "<matplotlib.figure.Figure at 0xd3135f8>"
      ]
     },
     "metadata": {},
     "output_type": "display_data"
    }
   ],
   "source": [
    "ax = sns.boxplot(x=self_paced['open_length'])\n",
    "ax.set(xlim=(0, 800))"
   ]
  },
  {
   "cell_type": "code",
   "execution_count": 22,
   "metadata": {
    "collapsed": false
   },
   "outputs": [
    {
     "data": {
      "image/png": "[encoded data removed]",
      "text/plain": [
       "<matplotlib.figure.Figure at 0xd4eb710>"
      ]
     },
     "metadata": {},
     "output_type": "display_data"
    }
   ],
   "source": [
    "ax = sns.regplot(x=self_paced['open_length'], y=self_paced['sum_enrolls'], fit_reg=False)"
   ]
  },
  {
   "cell_type": "code",
   "execution_count": 23,
   "metadata": {
    "collapsed": false
   },
   "outputs": [
    {
     "name": "stderr",
     "output_type": "stream",
     "text": [
      "C:\\Users\\ochang\\AppData\\Local\\Continuum\\Anaconda2\\lib\\site-packages\\ipykernel\\__main__.py:4: SettingWithCopyWarning: \n",
      "A value is trying to be set on a copy of a slice from a DataFrame\n",
      "\n",
      "See the caveats in the documentation: http://pandas.pydata.org/pandas-docs/stable/indexing.html#indexing-view-versus-copy\n",
      "C:\\Users\\ochang\\AppData\\Local\\Continuum\\Anaconda2\\lib\\site-packages\\ipykernel\\__main__.py:5: SettingWithCopyWarning: \n",
      "A value is trying to be set on a copy of a slice from a DataFrame\n",
      "\n",
      "See the caveats in the documentation: http://pandas.pydata.org/pandas-docs/stable/indexing.html#indexing-view-versus-copy\n",
      "C:\\Users\\ochang\\AppData\\Local\\Continuum\\Anaconda2\\lib\\site-packages\\ipykernel\\__main__.py:6: SettingWithCopyWarning: \n",
      "A value is trying to be set on a copy of a slice from a DataFrame\n",
      "\n",
      "See the caveats in the documentation: http://pandas.pydata.org/pandas-docs/stable/indexing.html#indexing-view-versus-copy\n",
      "C:\\Users\\ochang\\AppData\\Local\\Continuum\\Anaconda2\\lib\\site-packages\\ipykernel\\__main__.py:7: SettingWithCopyWarning: \n",
      "A value is trying to be set on a copy of a slice from a DataFrame\n",
      "\n",
      "See the caveats in the documentation: http://pandas.pydata.org/pandas-docs/stable/indexing.html#indexing-view-versus-copy\n"
     ]
    }
   ],
   "source": [
    "# Splitting course announcement dates into Quartiles to see if there's a significant difference between announcement lead time and enrollments\n",
    "self_paced['Open Length Quartile'] = 'Null'\n",
    "\n",
    "self_paced['Open Length Quartile'][self_paced['open_length'] >= self_paced['open_length'].quantile(.75)] = 'Q4'\n",
    "self_paced['Open Length Quartile'][self_paced['open_length'] < self_paced['open_length'].quantile(.75)] = 'Q3'\n",
    "self_paced['Open Length Quartile'][self_paced['open_length'] < self_paced['open_length'].quantile(.50)] = 'Q2'\n",
    "self_paced['Open Length Quartile'][self_paced['open_length'] < self_paced['open_length'].quantile(.25)] = 'Q1'"
   ]
  },
  {
   "cell_type": "code",
   "execution_count": 24,
   "metadata": {
    "collapsed": false
   },
   "outputs": [
    {
     "name": "stdout",
     "output_type": "stream",
     "text": [
      "Open Length Quartile\n",
      "Q1    12672.521368\n",
      "Q2    15630.818966\n",
      "Q3    17520.621849\n",
      "Q4    23580.567797\n",
      "Name: sum_enrolls, dtype: float64\n",
      "Open Length Quartile\n",
      "Q1    6687.0\n",
      "Q2    6666.5\n",
      "Q3    7186.0\n",
      "Q4    9906.0\n",
      "Name: sum_enrolls, dtype: float64\n",
      "Open Length Quartile\n",
      "Q1     66.299145\n",
      "Q2    133.982759\n",
      "Q3    222.176471\n",
      "Q4    425.355932\n",
      "Name: open_length, dtype: float64\n",
      "Open Length Quartile\n",
      "Q1     73.0\n",
      "Q2    132.5\n",
      "Q3    210.0\n",
      "Q4    391.5\n",
      "Name: open_length, dtype: float64\n"
     ]
    }
   ],
   "source": [
    "# Group by Quartiles to see Mean/Median of Enrollments for each Announcement Window Quartile\n",
    "print self_paced.groupby(['Open Length Quartile'])['sum_enrolls'].mean()\n",
    "print self_paced.groupby(['Open Length Quartile'])['sum_enrolls'].median()\n",
    "\n",
    "print self_paced.groupby(['Open Length Quartile'])['open_length'].mean()\n",
    "print self_paced.groupby(['Open Length Quartile'])['open_length'].median()"
   ]
  },
  {
   "cell_type": "code",
   "execution_count": 26,
   "metadata": {
    "collapsed": false
   },
   "outputs": [
    {
     "data": {
      "text/plain": [
       "[(0, 60000)]"
      ]
     },
     "execution_count": 26,
     "metadata": {},
     "output_type": "execute_result"
    },
    {
     "data": {
      "image/png": "[encoded data removed]",
      "text/plain": [
       "<matplotlib.figure.Figure at 0xd6842e8>"
      ]
     },
     "metadata": {},
     "output_type": "display_data"
    }
   ],
   "source": [
    "ax = sns.boxplot(x=self_paced['sum_enrolls'], y=self_paced['Open Length Quartile'], order=['Q4', 'Q3', 'Q2', 'Q1'])\n",
    "ax.set(xlim=(0, 60000))"
   ]
  },
  {
   "cell_type": "code",
   "execution_count": 27,
   "metadata": {
    "collapsed": false
   },
   "outputs": [
    {
     "name": "stdout",
     "output_type": "stream",
     "text": [
      "Ttest_indResult(statistic=-2.4091840367218196, pvalue=0.016765190858619605)\n"
     ]
    }
   ],
   "source": [
    "bottom_quartile = self_paced[self_paced['Open Length Quartile'] == 'Q1']['sum_enrolls']\n",
    "top_quartile = self_paced[self_paced['Open Length Quartile'] == 'Q4']['sum_enrolls']\n",
    "\n",
    "print (ttest_ind(bottom_quartile, top_quartile))"
   ]
  },
  {
   "cell_type": "code",
   "execution_count": 34,
   "metadata": {
    "collapsed": true
   },
   "outputs": [
    {
     "data": {
      "text/plain": [
       "Open Length Quartile  course_partner       \n",
       "Q1                    AdelaideX                 3\n",
       "                      AmnestyInternationalX     1\n",
       "                      BAx                       3\n",
       "                      BUx                       2\n",
       "                      BabsonX                   4\n",
       "                      BerkeleyX                44\n",
       "                      BerkleeX                  4\n",
       "                      CatalystX                 4\n",
       "                      Catalystx                 1\n",
       "                      ChalmersX                 3\n",
       "                      ColgateX                  2\n",
       "                      ColumbiaX                 3\n",
       "                      CornellX_UQx              1\n",
       "                      CurtinX                   4\n",
       "                      DartmouthX                2\n",
       "                      DavidsonX                 4\n",
       "                      DelftX                    5\n",
       "                      EPFLx                     2\n",
       "                      ETSx                      3\n",
       "                      GEMSx                     1\n",
       "                      GalileoX                  2\n",
       "                      GeorgetownX               2\n",
       "                      HKPolyUX                  1\n",
       "                      HKPolyUx                  4\n",
       "                      HKUSTx                    3\n",
       "                      HKUx                      3\n",
       "                      HamiltonX                 1\n",
       "                      HarvardX                  5\n",
       "                      HarveyMuddX               1\n",
       "                      IDBx                     12\n",
       "                                               ..\n",
       "Q4                    Peking                    3\n",
       "                      PekingX                  26\n",
       "                      PrincetonX                2\n",
       "                      PurdueX                   2\n",
       "                      RWTHAachenX               1\n",
       "                      RWTHx                     4\n",
       "                      RiceX                     9\n",
       "                      SMES                      4\n",
       "                      STUD-1452                 1\n",
       "                      TokyoTechX                1\n",
       "                      TsinghuaX                55\n",
       "                      UBCx                      1\n",
       "                      UC3Mx                     1\n",
       "                      UChicagoX                 2\n",
       "                      UPValenciaX               5\n",
       "                      UQx                       5\n",
       "                      UTArlingtonX              1\n",
       "                      UTAustinX                13\n",
       "                      UWashingtonX              4\n",
       "                      VEDA                      1\n",
       "                      WageningenX               3\n",
       "                      WellesleyX                4\n",
       "                      WestonHS                  2\n",
       "                      XuetangX                  1\n",
       "                      adam                      2\n",
       "                      adamX                     1\n",
       "                      ak                        1\n",
       "                      edX                       5\n",
       "                      edx                       3\n",
       "                      studentsupport            1\n",
       "Name: course_id, dtype: int64"
      ]
     },
     "execution_count": 34,
     "metadata": {},
     "output_type": "execute_result"
    }
   ],
   "source": [
    "instructor_paced.groupby(['Open Length Quartile','course_partner'])['course_id'].count()"
   ]
  },
  {
   "cell_type": "code",
   "execution_count": 47,
   "metadata": {
    "collapsed": false
   },
   "outputs": [],
   "source": [
    "instructor_paced_Q4 = instructor_paced[instructor_paced['Open Length Quartile'] == 'Q4']"
   ]
  },
  {
   "cell_type": "code",
   "execution_count": 48,
   "metadata": {
    "collapsed": false
   },
   "outputs": [
    {
     "data": {
      "image/png": "[encoded data removed]",
      "text/plain": [
       "<matplotlib.figure.Figure at 0xca8dcc0>"
      ]
     },
     "metadata": {},
     "output_type": "display_data"
    }
   ],
   "source": [
    "ax = sns.regplot(x=instructor_paced_Q4['open_length'], y=instructor_paced_Q4['sum_enrolls'], fit_reg=False)"
   ]
  }
 ],
 "metadata": {
  "kernelspec": {
   "display_name": "Python 2",
   "language": "python",
   "name": "python2"
  },
  "language_info": {
   "codemirror_mode": {
    "name": "ipython",
    "version": 2
   },
   "file_extension": ".py",
   "mimetype": "text/x-python",
   "name": "python",
   "nbconvert_exporter": "python",
   "pygments_lexer": "ipython2",
   "version": "2.7.13"
  }
 },
 "nbformat": 4,
 "nbformat_minor": 2
}
