{
 "cells": [
  {
   "cell_type": "code",
   "execution_count": 115,
   "metadata": {
    "collapsed": true
   },
   "outputs": [],
   "source": [
    "# Import necessary libraries/modules\n",
    "import vertica_python\n",
    "import pandas as pd\n",
    "import numpy as np\n",
    "import seaborn as sns\n",
    "import matplotlib.pyplot as plt\n",
    "%matplotlib inline\n",
    "\n",
    "import os"
   ]
  },
  {
   "cell_type": "code",
   "execution_count": 116,
   "metadata": {
    "collapsed": true
   },
   "outputs": [],
   "source": [
    "# Set up the Vertica Connection Information\n",
    "username = os.getenv('VERTICA_USERNAME')\n",
    "password = os.getenv('VERTICA_PASSWORD')\n",
    "\n",
    "conn_info = {'host': 'warehouse.analytics.edx.org',\n",
    "             'port': 5433,\n",
    "             'user': username,\n",
    "             'password': password,\n",
    "             'database': 'warehouse',\n",
    "             'read_timeout': 600,\n",
    "             'unicode_error': 'strict',\n",
    "             'ssl': False\n",
    "            }\n",
    "\n",
    "connection = vertica_python.connect(**conn_info)\n",
    "cur = connection.cursor('dict')"
   ]
  },
  {
   "cell_type": "code",
   "execution_count": 28,
   "metadata": {
    "collapsed": false
   },
   "outputs": [
    {
     "data": {
      "text/html": [
       "<div>\n",
       "<table border=\"1\" class=\"dataframe\">\n",
       "  <thead>\n",
       "    <tr style=\"text-align: right;\">\n",
       "      <th></th>\n",
       "      <th>pacing_type</th>\n",
       "      <th>courses</th>\n",
       "    </tr>\n",
       "  </thead>\n",
       "  <tbody>\n",
       "    <tr>\n",
       "      <th>0</th>\n",
       "      <td>instructor_paced</td>\n",
       "      <td>2714</td>\n",
       "    </tr>\n",
       "    <tr>\n",
       "      <th>1</th>\n",
       "      <td>self_paced</td>\n",
       "      <td>1158</td>\n",
       "    </tr>\n",
       "    <tr>\n",
       "      <th>2</th>\n",
       "      <td>None</td>\n",
       "      <td>358</td>\n",
       "    </tr>\n",
       "  </tbody>\n",
       "</table>\n",
       "</div>"
      ],
      "text/plain": [
       "        pacing_type  courses\n",
       "0  instructor_paced     2714\n",
       "1        self_paced     1158\n",
       "2              None      358"
      ]
     },
     "execution_count": 28,
     "metadata": {},
     "output_type": "execute_result"
    }
   ],
   "source": [
    "# Looking at what data points will be missing from our data set\n",
    "# Primarily based on business_intelligence.course_master\n",
    "# business_intelligence.course_master has ~4000+ course_ids to start before we filter out courses missing data\n",
    "\n",
    "query = \"\"\"\n",
    "SELECT\n",
    "    pacing_type,\n",
    "    COUNT(*) AS courses\n",
    "FROM\n",
    "    business_intelligence.course_master\n",
    "GROUP BY\n",
    "    pacing_type;\n",
    "\"\"\"\n",
    "\n",
    "cur.execute(query)\n",
    "\n",
    "cm = pd.DataFrame(cur.fetchall())\n",
    "\n",
    "cm\n",
    "\n",
    "# Not a significant amount of enrollments for courses missing pacing type\n",
    "# With the exception of course-v1:MITx+6.002x+MITx_2012_Alumni which has 150K enrollments\n",
    "# This might be the one off course Circuits and Electronics that had a ton of people moved\n",
    "# We can probably feel pretty safe removing those courses from the data set"
   ]
  },
  {
   "cell_type": "code",
   "execution_count": 35,
   "metadata": {
    "collapsed": false
   },
   "outputs": [
    {
     "data": {
      "text/html": [
       "<div>\n",
       "<table border=\"1\" class=\"dataframe\">\n",
       "  <thead>\n",
       "    <tr style=\"text-align: right;\">\n",
       "      <th></th>\n",
       "      <th>pacing_type</th>\n",
       "      <th>courses</th>\n",
       "    </tr>\n",
       "  </thead>\n",
       "  <tbody>\n",
       "    <tr>\n",
       "      <th>0</th>\n",
       "      <td>instructor_paced</td>\n",
       "      <td>1913</td>\n",
       "    </tr>\n",
       "    <tr>\n",
       "      <th>1</th>\n",
       "      <td>self_paced</td>\n",
       "      <td>475</td>\n",
       "    </tr>\n",
       "    <tr>\n",
       "      <th>2</th>\n",
       "      <td>None</td>\n",
       "      <td>27</td>\n",
       "    </tr>\n",
       "  </tbody>\n",
       "</table>\n",
       "</div>"
      ],
      "text/plain": [
       "        pacing_type  courses\n",
       "0  instructor_paced     1913\n",
       "1        self_paced      475\n",
       "2              None       27"
      ]
     },
     "execution_count": 35,
     "metadata": {},
     "output_type": "execute_result"
    }
   ],
   "source": [
    "# Looking at distribution by pacing type for courses that have ended\n",
    "query = \"\"\"\n",
    "SELECT\n",
    "    pacing_type,\n",
    "    COUNT(*) AS courses\n",
    "FROM\n",
    "    business_intelligence.course_master\n",
    "WHERE\n",
    "    course_end_date <= CURRENT_DATE()\n",
    "GROUP BY\n",
    "    pacing_type;\n",
    "\"\"\"\n",
    "\n",
    "cur.execute(query)\n",
    "\n",
    "df = pd.DataFrame(cur.fetchall())\n",
    "\n",
    "df\n",
    "\n",
    "# We have a decent sample of instructor paced courses that have ended\n",
    "# However, not as many self paced courses that have ended\n",
    "# This could be due to Self Paced courses being open longer"
   ]
  },
  {
   "cell_type": "code",
   "execution_count": 45,
   "metadata": {
    "collapsed": false
   },
   "outputs": [
    {
     "data": {
      "text/html": [
       "<div>\n",
       "<table border=\"1\" class=\"dataframe\">\n",
       "  <thead>\n",
       "    <tr style=\"text-align: right;\">\n",
       "      <th></th>\n",
       "      <th>pacing_type</th>\n",
       "      <th>courses</th>\n",
       "    </tr>\n",
       "  </thead>\n",
       "  <tbody>\n",
       "    <tr>\n",
       "      <th>0</th>\n",
       "      <td>self_paced</td>\n",
       "      <td>767</td>\n",
       "    </tr>\n",
       "    <tr>\n",
       "      <th>1</th>\n",
       "      <td>instructor_paced</td>\n",
       "      <td>1992</td>\n",
       "    </tr>\n",
       "  </tbody>\n",
       "</table>\n",
       "</div>"
      ],
      "text/plain": [
       "        pacing_type  courses\n",
       "0        self_paced      767\n",
       "1  instructor_paced     1992"
      ]
     },
     "execution_count": 45,
     "metadata": {},
     "output_type": "execute_result"
    }
   ],
   "source": [
    "# How do we increase sample size of Self Paced courses knowing that these courses are open longer?\n",
    "query = \"\"\"\n",
    "SELECT\n",
    "    pacing_type,\n",
    "    COUNT(*) AS courses\n",
    "FROM\n",
    "    business_intelligence.course_master\n",
    "WHERE\n",
    "    course_start_date + 90 <= CURRENT_DATE()\n",
    "GROUP BY\n",
    "    pacing_type;\n",
    "\"\"\"\n",
    "\n",
    "cur.execute(query)\n",
    "\n",
    "df = pd.DataFrame(cur.fetchall())\n",
    "\n",
    "df\n",
    "\n",
    "# If we look at Self Paced courses that have started for at least 90 days\n",
    "# We can almost double the sample size"
   ]
  },
  {
   "cell_type": "markdown",
   "metadata": {},
   "source": [
    "# Where do courses get most of their enrollments?\n",
    "\n",
    "Relative to Announce, Start, Verification Deadline, or End Date?\n",
    "\n",
    "Caveats - we should look at this separately for pacing type since those may have an effect on when enrollments are coming in\n",
    "\n",
    "Looks like most of the courses that have enrollments way off the start date >3000 days from start, are all dummy or test courses\n",
    "\n",
    "QUERY\n",
    "\t\tSELECT\n",
    "\t\t\tDISTINCT a.course_id,\n",
    "\t\t\tcourse_name,\n",
    "\t\t\tcnt_enrolls\n",
    "\t\tFROM\n",
    "\t\t\tbusiness_intelligence.course_master a\n",
    "\t\tLEFT JOIN\n",
    "\t\t\tbusiness_intelligence.course_stats_time b\n",
    "\t\tON\n",
    "\t\t\ta.course_id = b.course_id\n",
    "\t\tWHERE\n",
    "\t\t\tpacing_type = 'instructor_paced'\n",
    "\t\tAND\n",
    "\t\t\tcourse_end_date <= CURRENT_DATE()\n",
    "\t\tAND\n",
    "\t\t\tDATEDIFF(day, date, course_start_date) > 3000"
   ]
  },
  {
   "cell_type": "markdown",
   "metadata": {},
   "source": [
    "# Instructor Paced Courses\n",
    "\n",
    "That have ended"
   ]
  },
  {
   "cell_type": "code",
   "execution_count": 111,
   "metadata": {
    "collapsed": false
   },
   "outputs": [],
   "source": [
    "query = \"\"\"\n",
    "SELECT\n",
    "\tdays_from_start,\n",
    "\tSUM(ISNULL(cnt_enrolls,0)) AS enrollments\n",
    "FROM\n",
    "\t(\n",
    "\t\tSELECT\n",
    "\t\t\ta.course_id,\n",
    "\t\t\tDATEDIFF(day, date, course_start_date) AS days_from_start,\n",
    "\t\t\tcnt_enrolls\n",
    "\t\tFROM\n",
    "\t\t\tbusiness_intelligence.course_master a\n",
    "\t\tLEFT JOIN\n",
    "\t\t\tbusiness_intelligence.course_stats_time b\n",
    "\t\tON\n",
    "\t\t\ta.course_id = b.course_id\n",
    "\t\tWHERE\n",
    "\t\t\tpacing_type = 'instructor_paced'\n",
    "\t\tAND\n",
    "\t\t\tcourse_end_date <= CURRENT_DATE()\n",
    "\t) a\n",
    "GROUP BY\n",
    "\tdays_from_start;\n",
    "\"\"\"\n",
    "\n",
    "cur.execute(query)\n",
    "\n",
    "df = pd.DataFrame(cur.fetchall())"
   ]
  },
  {
   "cell_type": "code",
   "execution_count": 112,
   "metadata": {
    "collapsed": false
   },
   "outputs": [
    {
     "data": {
      "image/png": "[encoded data removed]",
      "text/plain": [
       "<matplotlib.figure.Figure at 0x10a8f748>"
      ]
     },
     "metadata": {},
     "output_type": "display_data"
    }
   ],
   "source": [
    "# Most enrollments are coming close to the start\n",
    "ax = sns.regplot(x=df['days_from_start'], y=df['enrollments'], fit_reg=False)"
   ]
  },
  {
   "cell_type": "markdown",
   "metadata": {},
   "source": [
    "# Self Paced Courses"
   ]
  },
  {
   "cell_type": "code",
   "execution_count": 109,
   "metadata": {
    "collapsed": true
   },
   "outputs": [],
   "source": [
    "query = \"\"\"\n",
    "SELECT\n",
    "\tdays_from_start,\n",
    "\tSUM(ISNULL(cnt_enrolls,0)) AS enrollments\n",
    "FROM\n",
    "\t(\n",
    "\t\tSELECT\n",
    "\t\t\ta.course_id,\n",
    "\t\t\tDATEDIFF(day, date, course_start_date) AS days_from_start,\n",
    "\t\t\tcnt_enrolls\n",
    "\t\tFROM\n",
    "\t\t\tbusiness_intelligence.course_master a\n",
    "\t\tLEFT JOIN\n",
    "\t\t\tbusiness_intelligence.course_stats_time b\n",
    "\t\tON\n",
    "\t\t\ta.course_id = b.course_id\n",
    "\t\tWHERE\n",
    "\t\t\tpacing_type = 'self_paced'\n",
    "\t\tAND\n",
    "\t\t\tcourse_end_date <= CURRENT_DATE()\n",
    "\t) a\n",
    "GROUP BY\n",
    "\tdays_from_start;\n",
    "\"\"\"\n",
    "\n",
    "cur.execute(query)\n",
    "\n",
    "df = pd.DataFrame(cur.fetchall())"
   ]
  },
  {
   "cell_type": "code",
   "execution_count": 110,
   "metadata": {
    "collapsed": false
   },
   "outputs": [
    {
     "data": {
      "image/png": "[encoded data removed]",
      "text/plain": [
       "<matplotlib.figure.Figure at 0xe107d68>"
      ]
     },
     "metadata": {},
     "output_type": "display_data"
    }
   ],
   "source": [
    "# Most enrollments are coming close to the start\n",
    "ax = sns.regplot(x=df['days_from_start'], y=df['enrollments'], fit_reg=False)"
   ]
  },
  {
   "cell_type": "code",
   "execution_count": 55,
   "metadata": {
    "collapsed": true
   },
   "outputs": [],
   "source": [
    "# Putting together a query to look at course announce, start, end, and verification date distributions\n",
    "# We have courses without announcement dates or with announcement dates that come after the start date\n",
    "\n",
    "query = \"\"\"\n",
    "SELECT\n",
    "\tDATEDIFF(day, course_announcement_date, course_start_date) AS announcement_window,\n",
    "\t*\n",
    "FROM\n",
    "\tbusiness_intelligence.course_master\n",
    "WHERE\n",
    "\tcourse_announcement_date <= CURRENT_DATE()\n",
    "AND\n",
    "\tDATEDIFF(day, course_announcement_date, course_start_date) >= 0\n",
    "AND\n",
    "    pacing_type IS NOT NULL\n",
    "\"\"\"\n",
    "\n",
    "cur.execute(query)\n",
    "\n",
    "announcement = pd.DataFrame(cur.fetchall())"
   ]
  },
  {
   "cell_type": "code",
   "execution_count": 56,
   "metadata": {
    "collapsed": false
   },
   "outputs": [
    {
     "data": {
      "text/plain": [
       "[(0, 300)]"
      ]
     },
     "execution_count": 56,
     "metadata": {},
     "output_type": "execute_result"
    },
    {
     "data": {
      "image/png": "[encoded data removed]",
      "text/plain": [
       "<matplotlib.figure.Figure at 0xf3afc50>"
      ]
     },
     "metadata": {},
     "output_type": "display_data"
    }
   ],
   "source": [
    "# Here we see instructor paced courses tend to have a longer announcement window\n",
    "\n",
    "ax = sns.boxplot(x=announcement['announcement_window'], y=announcement['pacing_type'])\n",
    "ax.set(xlim=(0, 300))"
   ]
  },
  {
   "cell_type": "code",
   "execution_count": 60,
   "metadata": {
    "collapsed": false
   },
   "outputs": [],
   "source": [
    "# Looking at course open length; when content is available (Start to End Date)\n",
    "\n",
    "query = \"\"\"\n",
    "SELECT\n",
    "\tDATEDIFF(day, course_start_date, course_end_date) AS course_open_length,\n",
    "\t*\n",
    "FROM\n",
    "\tbusiness_intelligence.course_master\n",
    "WHERE\n",
    "\tDATEDIFF(day, course_start_date, course_end_date) > 0;\n",
    "\"\"\"\n",
    "\n",
    "cur.execute(query)\n",
    "\n",
    "open_length = pd.DataFrame(cur.fetchall())"
   ]
  },
  {
   "cell_type": "code",
   "execution_count": 65,
   "metadata": {
    "collapsed": false
   },
   "outputs": [
    {
     "data": {
      "text/plain": [
       "[(0, 800)]"
      ]
     },
     "execution_count": 65,
     "metadata": {},
     "output_type": "execute_result"
    },
    {
     "data": {
      "image/png": "[encoded data removed]",
      "text/plain": [
       "<matplotlib.figure.Figure at 0xe203908>"
      ]
     },
     "metadata": {},
     "output_type": "display_data"
    }
   ],
   "source": [
    "# Self Paced Courses are open much longer than instructor paced courses\n",
    "\n",
    "ax = sns.boxplot(x=open_length['course_open_length'], y=open_length['pacing_type'])\n",
    "ax.set(xlim=(0, 800))"
   ]
  },
  {
   "cell_type": "code",
   "execution_count": 71,
   "metadata": {
    "collapsed": true
   },
   "outputs": [],
   "source": [
    "# Looking at course verification window (Start to Verification End Date)\n",
    "\n",
    "query = \"\"\"\n",
    "SELECT\n",
    "\tDATEDIFF(day, course_start_date, course_verification_end_date) AS course_verification_window,\n",
    "\t*\n",
    "FROM\n",
    "\tbusiness_intelligence.course_master\n",
    "WHERE\n",
    "\tDATEDIFF(day, course_start_date, course_verification_end_date) > 0;\n",
    "\"\"\"\n",
    "\n",
    "cur.execute(query)\n",
    "\n",
    "verification_window = pd.DataFrame(cur.fetchall())"
   ]
  },
  {
   "cell_type": "code",
   "execution_count": 72,
   "metadata": {
    "collapsed": false
   },
   "outputs": [
    {
     "data": {
      "text/plain": [
       "[(0, 800)]"
      ]
     },
     "execution_count": 72,
     "metadata": {},
     "output_type": "execute_result"
    },
    {
     "data": {
      "image/png": "[encoded data removed]",
      "text/plain": [
       "<matplotlib.figure.Figure at 0xf082358>"
      ]
     },
     "metadata": {},
     "output_type": "display_data"
    }
   ],
   "source": [
    "# In line with course length, course verification window is much longer for self paced courses than instructor paced\n",
    "\n",
    "ax = sns.boxplot(x=verification_window['course_verification_window'], y=verification_window['pacing_type'])\n",
    "ax.set(xlim=(0, 800))"
   ]
  },
  {
   "cell_type": "code",
   "execution_count": null,
   "metadata": {
    "collapsed": true
   },
   "outputs": [],
   "source": [
    "# Most of our course offerings are in English though we have more spanish language courses coming up\n",
    "\n",
    "query = \"\"\"\n",
    "SELECT\n",
    "\tcontent_language,\n",
    "\tCOUNT(*) AS courses\n",
    "FROM\n",
    "\tbusiness_intelligence.course_master\n",
    "WHERE\n",
    "\tcontent_language IS NOT NULL\n",
    "AND\n",
    "\tpacing_type IS NOT NULL\n",
    "AND\n",
    "\tcourse_end_date <= CURRENT_DATE()\n",
    "GROUP BY\n",
    "\t1\n",
    "\"\"\""
   ]
  },
  {
   "cell_type": "code",
   "execution_count": null,
   "metadata": {
    "collapsed": true
   },
   "outputs": [],
   "source": [
    "# Enrollment/Verification Depreciation per Course Run Number\n",
    "\n",
    "query = \"\"\"\n",
    "SELECT\n",
    "\tcourse_run_number,\n",
    "\tCOUNT(*) AS course_runs,\n",
    "\tSUM(sum_enrolls) AS enrollments,\n",
    "\tSUM(sum_verifications) AS verifications,\n",
    "\tSUM(sum_enrolls)/COUNT(*) AS enrolls_per_course_run,\n",
    "\tSUM(sum_verifications)/COUNT(*) AS verifications_per_course_run\n",
    "FROM\n",
    "\tbusiness_intelligence.course_master a\n",
    "LEFT JOIN\n",
    "\tbusiness_intelligence.course_stats_summary b\n",
    "ON\n",
    "\ta.course_id = b.course_id\n",
    "GROUP BY\n",
    "\tcourse_run_number;\n",
    "\"\"\""
   ]
  },
  {
   "cell_type": "code",
   "execution_count": 140,
   "metadata": {
    "collapsed": false
   },
   "outputs": [],
   "source": [
    "query = \"\"\"\n",
    "SELECT\n",
    "\ta.course_id,\n",
    "\tDATEDIFF(day, course_announcement_date, course_start_date) AS announcement_window,\n",
    "\tDATEDIFF(day, course_start_date, course_end_date) AS course_open_length,\n",
    "\tpacing_type,\n",
    "\tlevel_type,\n",
    "\tsum_enrolls,\n",
    "    sum_bookings\n",
    "FROM\n",
    "\tbusiness_intelligence.course_master a\n",
    "LEFT JOIN\n",
    "\tbusiness_intelligence.course_stats_summary b\n",
    "ON\n",
    "\ta.course_id = b.course_id\n",
    "WHERE\n",
    "\tcourse_end_date <= CURRENT_DATE()\n",
    "AND\n",
    "\tDATEDIFF(day, course_announcement_date, course_start_date)>0\n",
    "AND\n",
    "\tpacing_type = 'instructor_paced';\n",
    "\"\"\"\n",
    "\n",
    "cur.execute(query)\n",
    "\n",
    "df = pd.DataFrame(cur.fetchall())"
   ]
  },
  {
   "cell_type": "code",
   "execution_count": 141,
   "metadata": {
    "collapsed": false,
    "scrolled": true
   },
   "outputs": [
    {
     "data": {
      "image/png": "[encoded data removed]",
      "text/plain": [
       "<matplotlib.figure.Figure at 0x123d4ac8>"
      ]
     },
     "metadata": {},
     "output_type": "display_data"
    }
   ],
   "source": [
    "ax = sns.regplot(x=df['announcement_window'], y=df['sum_enrolls'], fit_reg=False)"
   ]
  },
  {
   "cell_type": "code",
   "execution_count": 142,
   "metadata": {
    "collapsed": false
   },
   "outputs": [
    {
     "data": {
      "image/png": "[encoded data removed]",
      "text/plain": [
       "<matplotlib.figure.Figure at 0x123bee48>"
      ]
     },
     "metadata": {},
     "output_type": "display_data"
    }
   ],
   "source": [
    "ax = sns.regplot(x=df['announcement_window'], y=df['sum_bookings'], fit_reg=False)"
   ]
  },
  {
   "cell_type": "code",
   "execution_count": 143,
   "metadata": {
    "collapsed": false
   },
   "outputs": [
    {
     "name": "stderr",
     "output_type": "stream",
     "text": [
      "C:\\Users\\ochang\\AppData\\Local\\Continuum\\Anaconda2\\lib\\site-packages\\ipykernel\\__main__.py:3: SettingWithCopyWarning: \n",
      "A value is trying to be set on a copy of a slice from a DataFrame\n",
      "\n",
      "See the caveats in the documentation: http://pandas.pydata.org/pandas-docs/stable/indexing.html#indexing-view-versus-copy\n",
      "  app.launch_new_instance()\n",
      "C:\\Users\\ochang\\AppData\\Local\\Continuum\\Anaconda2\\lib\\site-packages\\ipykernel\\__main__.py:4: SettingWithCopyWarning: \n",
      "A value is trying to be set on a copy of a slice from a DataFrame\n",
      "\n",
      "See the caveats in the documentation: http://pandas.pydata.org/pandas-docs/stable/indexing.html#indexing-view-versus-copy\n",
      "C:\\Users\\ochang\\AppData\\Local\\Continuum\\Anaconda2\\lib\\site-packages\\ipykernel\\__main__.py:5: SettingWithCopyWarning: \n",
      "A value is trying to be set on a copy of a slice from a DataFrame\n",
      "\n",
      "See the caveats in the documentation: http://pandas.pydata.org/pandas-docs/stable/indexing.html#indexing-view-versus-copy\n",
      "C:\\Users\\ochang\\AppData\\Local\\Continuum\\Anaconda2\\lib\\site-packages\\ipykernel\\__main__.py:6: SettingWithCopyWarning: \n",
      "A value is trying to be set on a copy of a slice from a DataFrame\n",
      "\n",
      "See the caveats in the documentation: http://pandas.pydata.org/pandas-docs/stable/indexing.html#indexing-view-versus-copy\n"
     ]
    }
   ],
   "source": [
    "df['Quartile'] = 'Null'\n",
    "\n",
    "df['Quartile'][df['announcement_window'] >= df['announcement_window'].quantile(.75)] = 'Q4'\n",
    "df['Quartile'][df['announcement_window'] < df['announcement_window'].quantile(.75)] = 'Q3'\n",
    "df['Quartile'][df['announcement_window'] < df['announcement_window'].quantile(.50)] = 'Q2'\n",
    "df['Quartile'][df['announcement_window'] < df['announcement_window'].quantile(.25)] = 'Q1'"
   ]
  },
  {
   "cell_type": "code",
   "execution_count": 169,
   "metadata": {
    "collapsed": false
   },
   "outputs": [
    {
     "data": {
      "text/plain": [
       "[(0, 100000)]"
      ]
     },
     "execution_count": 169,
     "metadata": {},
     "output_type": "execute_result"
    },
    {
     "data": {
      "image/png": "[encoded data removed]",
      "text/plain": [
       "<matplotlib.figure.Figure at 0x12114dd8>"
      ]
     },
     "metadata": {},
     "output_type": "display_data"
    }
   ],
   "source": [
    "ax = sns.boxplot(x=df['sum_enrolls'], y=df['Quartile'], order=['Q4', 'Q3', 'Q2', 'Q1'])\n",
    "ax.set(xlim=(0, 100000))"
   ]
  },
  {
   "cell_type": "code",
   "execution_count": 167,
   "metadata": {
    "collapsed": false
   },
   "outputs": [
    {
     "name": "stdout",
     "output_type": "stream",
     "text": [
      "Ttest_indResult(statistic=-2.3077945545719967, pvalue=0.021243063053998489)\n"
     ]
    }
   ],
   "source": [
    "from scipy.stats import ttest_ind\n",
    "\n",
    "bottom_quartile = df[df['Quartile'] == 'Q1']['sum_enrolls']\n",
    "top_quartile = df[df['Quartile'] == 'Q4']['sum_enrolls']\n",
    "\n",
    "print (ttest_ind(bottom_quartile, top_quartile))"
   ]
  },
  {
   "cell_type": "code",
   "execution_count": 146,
   "metadata": {
    "collapsed": false
   },
   "outputs": [],
   "source": [
    "df['sum_bookings'] = df['sum_bookings'].fillna(df['sum_bookings'].median())\n",
    "\n",
    "df['sum_bookings'] = df['sum_bookings'].astype(int)"
   ]
  },
  {
   "cell_type": "code",
   "execution_count": 170,
   "metadata": {
    "collapsed": false
   },
   "outputs": [
    {
     "data": {
      "text/plain": [
       "[(0, 30000)]"
      ]
     },
     "execution_count": 170,
     "metadata": {},
     "output_type": "execute_result"
    },
    {
     "data": {
      "image/png": "[encoded data removed]",
      "text/plain": [
       "<matplotlib.figure.Figure at 0xef55d30>"
      ]
     },
     "metadata": {},
     "output_type": "display_data"
    }
   ],
   "source": [
    "ax = sns.boxplot(x=df['sum_bookings'], y=df['Quartile'], order=['Q4', 'Q3', 'Q2', 'Q1'])\n",
    "ax.set(xlim=(0, 30000))"
   ]
  },
  {
   "cell_type": "code",
   "execution_count": 159,
   "metadata": {
    "collapsed": false
   },
   "outputs": [
    {
     "name": "stdout",
     "output_type": "stream",
     "text": [
      "Ttest_indResult(statistic=-2.1409934519757616, pvalue=0.032550292316466008)\n"
     ]
    }
   ],
   "source": [
    "from scipy.stats import ttest_ind\n",
    "\n",
    "bottom_quartile = df[df['Quartile'] == 'Q1']['sum_bookings']\n",
    "top_quartile = df[df['Quartile'] == 'Q4']['sum_bookings']\n",
    "\n",
    "print (ttest_ind(bottom_quartile, top_quartile))"
   ]
  },
  {
   "cell_type": "code",
   "execution_count": 166,
   "metadata": {
    "collapsed": false
   },
   "outputs": [
    {
     "data": {
      "text/plain": [
       "Quartile\n",
       "Q1     7746.651270\n",
       "Q2    12041.417633\n",
       "Q3    11760.450575\n",
       "Q4    13887.779279\n",
       "Name: sum_bookings, dtype: float64"
      ]
     },
     "execution_count": 166,
     "metadata": {},
     "output_type": "execute_result"
    }
   ],
   "source": [
    "df.groupby(['Quartile'])['sum_bookings'].mean()"
   ]
  },
  {
   "cell_type": "code",
   "execution_count": 171,
   "metadata": {
    "collapsed": true
   },
   "outputs": [],
   "source": [
    "query = \"\"\"\n",
    "SELECT\n",
    "\ta.course_id,\n",
    "\tDATEDIFF(day, course_announcement_date, course_start_date) AS announcement_window,\n",
    "\tDATEDIFF(day, course_start_date, course_end_date) AS course_open_length,\n",
    "\tpacing_type,\n",
    "\tlevel_type,\n",
    "\tsum_enrolls,\n",
    "    sum_bookings\n",
    "FROM\n",
    "\tbusiness_intelligence.course_master a\n",
    "LEFT JOIN\n",
    "\tbusiness_intelligence.course_stats_summary b\n",
    "ON\n",
    "\ta.course_id = b.course_id\n",
    "WHERE\n",
    "\tcourse_end_date <= CURRENT_DATE()\n",
    "AND\n",
    "\tDATEDIFF(day, course_start_date, course_end_date)>0\n",
    "AND\n",
    "\tpacing_type = 'instructor_paced';\n",
    "\"\"\"\n",
    "\n",
    "cur.execute(query)\n",
    "\n",
    "df = pd.DataFrame(cur.fetchall())"
   ]
  },
  {
   "cell_type": "code",
   "execution_count": 85,
   "metadata": {
    "collapsed": false
   },
   "outputs": [
    {
     "data": {
      "image/png": "[encoded data removed]",
      "text/plain": [
       "<matplotlib.figure.Figure at 0xc28f5f8>"
      ]
     },
     "metadata": {},
     "output_type": "display_data"
    }
   ],
   "source": [
    "ax = sns.regplot(x=df['course_open_length'], y=df['sum_enrolls'], fit_reg=False)"
   ]
  },
  {
   "cell_type": "code",
   "execution_count": 126,
   "metadata": {
    "collapsed": false
   },
   "outputs": [
    {
     "data": {
      "image/png": "[encoded data removed]",
      "text/plain": [
       "<matplotlib.figure.Figure at 0xd68a748>"
      ]
     },
     "metadata": {},
     "output_type": "display_data"
    }
   ],
   "source": [
    "ax = sns.regplot(x=df['course_open_length'], y=df['sum_bookings'], fit_reg=False)"
   ]
  },
  {
   "cell_type": "code",
   "execution_count": 124,
   "metadata": {
    "collapsed": false
   },
   "outputs": [
    {
     "data": {
      "text/plain": [
       "[(0, 200)]"
      ]
     },
     "execution_count": 124,
     "metadata": {},
     "output_type": "execute_result"
    },
    {
     "data": {
      "image/png": "[encoded data removed]",
      "text/plain": [
       "<matplotlib.figure.Figure at 0xbcb7d30>"
      ]
     },
     "metadata": {},
     "output_type": "display_data"
    }
   ],
   "source": [
    "ax = sns.boxplot(x=df['course_open_length'])\n",
    "ax.set(xlim=(0, 200))"
   ]
  },
  {
   "cell_type": "code",
   "execution_count": 172,
   "metadata": {
    "collapsed": false
   },
   "outputs": [
    {
     "name": "stderr",
     "output_type": "stream",
     "text": [
      "C:\\Users\\ochang\\AppData\\Local\\Continuum\\Anaconda2\\lib\\site-packages\\ipykernel\\__main__.py:3: SettingWithCopyWarning: \n",
      "A value is trying to be set on a copy of a slice from a DataFrame\n",
      "\n",
      "See the caveats in the documentation: http://pandas.pydata.org/pandas-docs/stable/indexing.html#indexing-view-versus-copy\n",
      "  app.launch_new_instance()\n",
      "C:\\Users\\ochang\\AppData\\Local\\Continuum\\Anaconda2\\lib\\site-packages\\ipykernel\\__main__.py:4: SettingWithCopyWarning: \n",
      "A value is trying to be set on a copy of a slice from a DataFrame\n",
      "\n",
      "See the caveats in the documentation: http://pandas.pydata.org/pandas-docs/stable/indexing.html#indexing-view-versus-copy\n",
      "C:\\Users\\ochang\\AppData\\Local\\Continuum\\Anaconda2\\lib\\site-packages\\ipykernel\\__main__.py:5: SettingWithCopyWarning: \n",
      "A value is trying to be set on a copy of a slice from a DataFrame\n",
      "\n",
      "See the caveats in the documentation: http://pandas.pydata.org/pandas-docs/stable/indexing.html#indexing-view-versus-copy\n",
      "C:\\Users\\ochang\\AppData\\Local\\Continuum\\Anaconda2\\lib\\site-packages\\ipykernel\\__main__.py:6: SettingWithCopyWarning: \n",
      "A value is trying to be set on a copy of a slice from a DataFrame\n",
      "\n",
      "See the caveats in the documentation: http://pandas.pydata.org/pandas-docs/stable/indexing.html#indexing-view-versus-copy\n"
     ]
    }
   ],
   "source": [
    "df['Quartile'] = 'Null'\n",
    "\n",
    "df['Quartile'][df['course_open_length'] >= df['course_open_length'].quantile(.75)] = 'Q4'\n",
    "df['Quartile'][df['course_open_length'] < df['course_open_length'].quantile(.75)] = 'Q3'\n",
    "df['Quartile'][df['course_open_length'] < df['course_open_length'].quantile(.50)] = 'Q2'\n",
    "df['Quartile'][df['course_open_length'] < df['course_open_length'].quantile(.25)] = 'Q1'"
   ]
  },
  {
   "cell_type": "code",
   "execution_count": 174,
   "metadata": {
    "collapsed": false
   },
   "outputs": [
    {
     "data": {
      "text/plain": [
       "[(0, 100000)]"
      ]
     },
     "execution_count": 174,
     "metadata": {},
     "output_type": "execute_result"
    },
    {
     "data": {
      "image/png": "[encoded data removed]",
      "text/plain": [
       "<matplotlib.figure.Figure at 0x11252a90>"
      ]
     },
     "metadata": {},
     "output_type": "display_data"
    }
   ],
   "source": [
    "ax = sns.boxplot(x=df['sum_enrolls'], y=df['Quartile'], order=['Q4', 'Q3', 'Q2', 'Q1'])\n",
    "ax.set(xlim=(0, 100000))"
   ]
  },
  {
   "cell_type": "code",
   "execution_count": 175,
   "metadata": {
    "collapsed": false
   },
   "outputs": [
    {
     "name": "stdout",
     "output_type": "stream",
     "text": [
      "Ttest_indResult(statistic=-2.3042157644720507, pvalue=0.021455182714943372)\n"
     ]
    }
   ],
   "source": [
    "bottom_quartile = df[df['Quartile'] == 'Q1']['sum_enrolls']\n",
    "top_quartile = df[df['Quartile'] == 'Q4']['sum_enrolls']\n",
    "\n",
    "print (ttest_ind(bottom_quartile, top_quartile))"
   ]
  },
  {
   "cell_type": "code",
   "execution_count": 173,
   "metadata": {
    "collapsed": false
   },
   "outputs": [],
   "source": [
    "df['sum_bookings'] = df['sum_bookings'].fillna(df['sum_bookings'].median())\n",
    "\n",
    "df['sum_bookings'] = df['sum_bookings'].astype(int)"
   ]
  },
  {
   "cell_type": "code",
   "execution_count": 179,
   "metadata": {
    "collapsed": false
   },
   "outputs": [
    {
     "data": {
      "text/plain": [
       "[(0, 30000)]"
      ]
     },
     "execution_count": 179,
     "metadata": {},
     "output_type": "execute_result"
    },
    {
     "data": {
      "image/png": "[encoded data removed]",
      "text/plain": [
       "<matplotlib.figure.Figure at 0xed43f28>"
      ]
     },
     "metadata": {},
     "output_type": "display_data"
    }
   ],
   "source": [
    "ax = sns.boxplot(x=df['sum_bookings'], y=df['Quartile'], order=['Q4', 'Q3', 'Q2', 'Q1'])\n",
    "ax.set(xlim=(0, 30000))"
   ]
  },
  {
   "cell_type": "code",
   "execution_count": 177,
   "metadata": {
    "collapsed": false
   },
   "outputs": [
    {
     "name": "stdout",
     "output_type": "stream",
     "text": [
      "Ttest_indResult(statistic=-0.73732875312771795, pvalue=0.46112958371084845)\n"
     ]
    }
   ],
   "source": [
    "bottom_quartile = df[df['Quartile'] == 'Q1']['sum_bookings']\n",
    "top_quartile = df[df['Quartile'] == 'Q4']['sum_bookings']\n",
    "\n",
    "print (ttest_ind(bottom_quartile, top_quartile))"
   ]
  }
 ],
 "metadata": {
  "kernelspec": {
   "display_name": "Python 2",
   "language": "python",
   "name": "python2"
  },
  "language_info": {
   "codemirror_mode": {
    "name": "ipython",
    "version": 2
   },
   "file_extension": ".py",
   "mimetype": "text/x-python",
   "name": "python",
   "nbconvert_exporter": "python",
   "pygments_lexer": "ipython2",
   "version": "2.7.13"
  }
 },
 "nbformat": 4,
 "nbformat_minor": 2
}
