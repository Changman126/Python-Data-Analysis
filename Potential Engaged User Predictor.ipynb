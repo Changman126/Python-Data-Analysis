{
 "cells": [
  {
   "cell_type": "code",
   "execution_count": null,
   "metadata": {
    "collapsed": true
   },
   "outputs": [],
   "source": [
    "# Import necessary libraries/modules\n",
    "import vertica_python\n",
    "import pandas as pd\n",
    "import numpy as np\n",
    "import seaborn as sns\n",
    "import matplotlib.pyplot as plt\n",
    "%matplotlib inline\n",
    "\n",
    "from sklearn.linear_model import LogisticRegression\n",
    "from sklearn.model_selection import train_test_split\n",
    "from sklearn import metrics\n",
    "from sklearn.cross_validation import cross_val_score"
   ]
  },
  {
   "cell_type": "code",
   "execution_count": null,
   "metadata": {
    "collapsed": true
   },
   "outputs": [],
   "source": [
    "# Set up the Vertica Connection Information\n",
    "\n",
    "conn_info = {'host' : 'warehouse.analytics.edx.org',\n",
    "             'port' : 5433,\n",
    "             'user' : 'ojchang',\n",
    "             'password' : 'Lej@mes8',\n",
    "             'database' : 'warehouse'\n",
    "            }\n",
    "\n",
    "connection = vertica_python.connect(**conn_info)\n",
    "cur = connection.cursor('dict')"
   ]
  },
  {
   "cell_type": "code",
   "execution_count": null,
   "metadata": {
    "collapsed": true
   },
   "outputs": [],
   "source": [
    "query = \"\"\"\n",
    "SELECT\n",
    "    *\n",
    "FROM\n",
    "    ed_services.user_profile\n",
    "\"\"\""
   ]
  },
  {
   "cell_type": "code",
   "execution_count": null,
   "metadata": {
    "collapsed": true
   },
   "outputs": [],
   "source": [
    "# Execute the Query from above\n",
    "cur.execute(query)\n",
    "\n",
    "# Dump the query results into a Pandas DataFrame\n",
    "df = pd.DataFrame(cur.fetchall())"
   ]
  },
  {
   "cell_type": "code",
   "execution_count": null,
   "metadata": {
    "collapsed": true
   },
   "outputs": [],
   "source": [
    "feature_cols = ['age',\n",
    "                'cnt_enrolled_course_run',\n",
    "                'cnt_enrolled_courses',\n",
    "                'enrolled',\n",
    "                'verifications',\n",
    "                'verified',\n",
    "                'unenrollments',\n",
    "                'unenrolled',\n",
    "                'passed_courses',\n",
    "                'passed_user',\n",
    "                'days_between_reg_enroll',\n",
    "                'days_between_reg_verification',\n",
    "                'days_between_enroll_verification'\n",
    "                ]\n",
    "\n",
    "X = df[feature_cols]\n",
    "y = df['cert_earner']"
   ]
  },
  {
   "cell_type": "code",
   "execution_count": null,
   "metadata": {
    "collapsed": true
   },
   "outputs": [],
   "source": [
    "user_df = pd.concat([df, pd.get_dummies(df['cnt_enrolled_course_run'], prefix='course_run')], axis=1)\n",
    "user_df['age'].fillna(user_df['age'].median())\n"
   ]
  },
  {
   "cell_type": "code",
   "execution_count": null,
   "metadata": {
    "collapsed": true
   },
   "outputs": [],
   "source": [
    "model = LogisticRegression()\n",
    "model = model.fit(X, y)\n",
    "\n",
    "model.score(X, y)\n",
    "\n",
    "y.mean()"
   ]
  },
  {
   "cell_type": "code",
   "execution_count": null,
   "metadata": {
    "collapsed": true
   },
   "outputs": [],
   "source": [
    "pd.DataFrame(zip(X.columns, np.transpose(model.coef_)))"
   ]
  }
 ],
 "metadata": {
  "kernelspec": {
   "display_name": "Python 2",
   "language": "python",
   "name": "python2"
  },
  "language_info": {
   "codemirror_mode": {
    "name": "ipython",
    "version": 2
   },
   "file_extension": ".py",
   "mimetype": "text/x-python",
   "name": "python",
   "nbconvert_exporter": "python",
   "pygments_lexer": "ipython2",
   "version": "2.7.13"
  }
 },
 "nbformat": 4,
 "nbformat_minor": 2
}
