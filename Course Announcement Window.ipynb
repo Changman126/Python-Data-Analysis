{
 "cells": [
  {
   "cell_type": "code",
   "execution_count": 90,
   "metadata": {
    "collapsed": true
   },
   "outputs": [],
   "source": [
    "# Import necessary libraries/modules\n",
    "import vertica_python\n",
    "import pandas as pd\n",
    "import numpy as np\n",
    "import seaborn as sns\n",
    "import matplotlib.pyplot as plt\n",
    "%matplotlib inline\n",
    "import os"
   ]
  },
  {
   "cell_type": "code",
   "execution_count": 91,
   "metadata": {
    "collapsed": true
   },
   "outputs": [],
   "source": [
    "# Set up the Vertica Connection Information\n",
    "username = os.getenv('VERTICA_USERNAME')\n",
    "password = os.getenv('VERTICA_PASSWORD')\n",
    "\n",
    "conn_info = {'host': 'warehouse.analytics.edx.org',\n",
    "             'port': 5433,\n",
    "             'user': username,\n",
    "             'password': password,\n",
    "             'database': 'warehouse',\n",
    "             'read_timeout': 600,\n",
    "             'unicode_error': 'strict',\n",
    "             'ssl': False\n",
    "            }\n",
    "\n",
    "connection = vertica_python.connect(**conn_info)\n",
    "cur = connection.cursor('dict')"
   ]
  },
  {
   "cell_type": "markdown",
   "metadata": {},
   "source": [
    "# Instructor Paced Courses\n",
    "- That have already passed their announcement window (courses have started already) and have also ended"
   ]
  },
  {
   "cell_type": "code",
   "execution_count": 92,
   "metadata": {
    "collapsed": true
   },
   "outputs": [],
   "source": [
    "query = \"\"\"\n",
    "SELECT\n",
    "\ta.course_id,\n",
    "\tDATEDIFF(day, course_announcement_date, course_start_date) AS announcement_window,\n",
    "\tpacing_type,\n",
    "\tlevel_type,\n",
    "    course_partner,\n",
    "    content_language,\n",
    "    course_run_number,\n",
    "\tsum_enrolls,\n",
    "    sum_bookings\n",
    "FROM\n",
    "\tbusiness_intelligence.course_master a\n",
    "LEFT JOIN\n",
    "\tbusiness_intelligence.course_stats_summary b\n",
    "ON\n",
    "\ta.course_id = b.course_id\n",
    "WHERE\n",
    "    course_start_date <= CURRENT_DATE()\n",
    "AND\n",
    "\tcourse_end_date <= CURRENT_DATE()\n",
    "AND\n",
    "\tDATEDIFF(day, course_announcement_date, course_start_date)>0\n",
    "AND\n",
    "\tpacing_type = 'instructor_paced'\n",
    "AND\n",
    "\tsum_enrolls > 100;\n",
    "\"\"\"\n",
    "\n",
    "cur.execute(query)\n",
    "\n",
    "instructor_paced = pd.DataFrame(cur.fetchall())"
   ]
  },
  {
   "cell_type": "code",
   "execution_count": 93,
   "metadata": {
    "collapsed": false
   },
   "outputs": [
    {
     "data": {
      "text/plain": [
       "[(0, 300)]"
      ]
     },
     "execution_count": 93,
     "metadata": {},
     "output_type": "execute_result"
    },
    {
     "data": {
      "image/png": "[encoded data removed]",
      "text/plain": [
       "<matplotlib.figure.Figure at 0xc1b5be0>"
      ]
     },
     "metadata": {},
     "output_type": "display_data"
    }
   ],
   "source": [
    "ax = sns.boxplot(x=instructor_paced['announcement_window'])\n",
    "ax.set(xlim=(0, 300))"
   ]
  },
  {
   "cell_type": "code",
   "execution_count": 94,
   "metadata": {
    "collapsed": false
   },
   "outputs": [
    {
     "data": {
      "text/plain": [
       "[(0, 300)]"
      ]
     },
     "execution_count": 94,
     "metadata": {},
     "output_type": "execute_result"
    },
    {
     "data": {
      "image/png": "[encoded data removed]",
      "text/plain": [
       "<matplotlib.figure.Figure at 0x125fa5f8>"
      ]
     },
     "metadata": {},
     "output_type": "display_data"
    }
   ],
   "source": [
    "ax = sns.boxplot(x=instructor_paced['announcement_window'], y=instructor_paced['level_type'])\n",
    "ax.set(xlim=(0, 300))"
   ]
  },
  {
   "cell_type": "code",
   "execution_count": 86,
   "metadata": {
    "collapsed": false
   },
   "outputs": [
    {
     "name": "stdout",
     "output_type": "stream",
     "text": [
      "42.0\n",
      "75.0\n",
      "123.0\n"
     ]
    }
   ],
   "source": [
    "print instructor_paced['announcement_window'].quantile(.25)\n",
    "print instructor_paced['announcement_window'].quantile(.50)\n",
    "print instructor_paced['announcement_window'].quantile(.75)"
   ]
  },
  {
   "cell_type": "markdown",
   "metadata": {},
   "source": [
    "# Is there a relationship between announcement window and enrollments?"
   ]
  },
  {
   "cell_type": "code",
   "execution_count": 65,
   "metadata": {
    "collapsed": false
   },
   "outputs": [
    {
     "data": {
      "image/png": "[encoded data removed]",
      "text/plain": [
       "<matplotlib.figure.Figure at 0x127c3f60>"
      ]
     },
     "metadata": {},
     "output_type": "display_data"
    }
   ],
   "source": [
    "ax = sns.regplot(x=instructor_paced['announcement_window'], y=instructor_paced['sum_enrolls'], fit_reg=False)"
   ]
  },
  {
   "cell_type": "code",
   "execution_count": 66,
   "metadata": {
    "collapsed": false
   },
   "outputs": [
    {
     "name": "stderr",
     "output_type": "stream",
     "text": [
      "C:\\Users\\ochang\\AppData\\Local\\Continuum\\Anaconda2\\lib\\site-packages\\ipykernel\\__main__.py:4: SettingWithCopyWarning: \n",
      "A value is trying to be set on a copy of a slice from a DataFrame\n",
      "\n",
      "See the caveats in the documentation: http://pandas.pydata.org/pandas-docs/stable/indexing.html#indexing-view-versus-copy\n",
      "C:\\Users\\ochang\\AppData\\Local\\Continuum\\Anaconda2\\lib\\site-packages\\ipykernel\\__main__.py:5: SettingWithCopyWarning: \n",
      "A value is trying to be set on a copy of a slice from a DataFrame\n",
      "\n",
      "See the caveats in the documentation: http://pandas.pydata.org/pandas-docs/stable/indexing.html#indexing-view-versus-copy\n",
      "C:\\Users\\ochang\\AppData\\Local\\Continuum\\Anaconda2\\lib\\site-packages\\ipykernel\\__main__.py:6: SettingWithCopyWarning: \n",
      "A value is trying to be set on a copy of a slice from a DataFrame\n",
      "\n",
      "See the caveats in the documentation: http://pandas.pydata.org/pandas-docs/stable/indexing.html#indexing-view-versus-copy\n",
      "C:\\Users\\ochang\\AppData\\Local\\Continuum\\Anaconda2\\lib\\site-packages\\ipykernel\\__main__.py:7: SettingWithCopyWarning: \n",
      "A value is trying to be set on a copy of a slice from a DataFrame\n",
      "\n",
      "See the caveats in the documentation: http://pandas.pydata.org/pandas-docs/stable/indexing.html#indexing-view-versus-copy\n"
     ]
    }
   ],
   "source": [
    "# Splitting course announcement dates into Quartiles to see if there's a significant difference between announcement lead time and enrollments\n",
    "instructor_paced['Announcement Window Quartile'] = 'Null'\n",
    "\n",
    "instructor_paced['Announcement Window Quartile'][instructor_paced['announcement_window'] >= instructor_paced['announcement_window'].quantile(.75)] = 'Q4'\n",
    "instructor_paced['Announcement Window Quartile'][instructor_paced['announcement_window'] < instructor_paced['announcement_window'].quantile(.75)] = 'Q3'\n",
    "instructor_paced['Announcement Window Quartile'][instructor_paced['announcement_window'] < instructor_paced['announcement_window'].quantile(.50)] = 'Q2'\n",
    "instructor_paced['Announcement Window Quartile'][instructor_paced['announcement_window'] < instructor_paced['announcement_window'].quantile(.25)] = 'Q1'"
   ]
  },
  {
   "cell_type": "code",
   "execution_count": 67,
   "metadata": {
    "collapsed": false
   },
   "outputs": [
    {
     "name": "stdout",
     "output_type": "stream",
     "text": [
      "Announcement Window Quartile\n",
      "Q1    12547.922170\n",
      "Q2    14213.833729\n",
      "Q3    14333.223476\n",
      "Q4    17936.347826\n",
      "Name: sum_enrolls, dtype: float64\n",
      "Announcement Window Quartile\n",
      "Q1     5713\n",
      "Q2     7307\n",
      "Q3     8438\n",
      "Q4    10040\n",
      "Name: sum_enrolls, dtype: int64\n",
      "Announcement Window Quartile\n",
      "Q1     25.750000\n",
      "Q2     57.821853\n",
      "Q3     93.645598\n",
      "Q4    191.292906\n",
      "Name: announcement_window, dtype: float64\n",
      "Announcement Window Quartile\n",
      "Q1     27\n",
      "Q2     57\n",
      "Q3     91\n",
      "Q4    169\n",
      "Name: announcement_window, dtype: int64\n"
     ]
    }
   ],
   "source": [
    "# Group by Quartiles to see Mean/Median of Enrollments for each Announcement Window Quartile\n",
    "print instructor_paced.groupby(['Announcement Window Quartile'])['sum_enrolls'].mean()\n",
    "print instructor_paced.groupby(['Announcement Window Quartile'])['sum_enrolls'].median()\n",
    "\n",
    "print instructor_paced.groupby(['Announcement Window Quartile'])['announcement_window'].mean()\n",
    "print instructor_paced.groupby(['Announcement Window Quartile'])['announcement_window'].median()"
   ]
  },
  {
   "cell_type": "markdown",
   "metadata": {},
   "source": [
    "# Looks like there could be a relationship where longer announcement window leads to higher enrollments\n",
    "- which makes sense"
   ]
  },
  {
   "cell_type": "code",
   "execution_count": 69,
   "metadata": {
    "collapsed": false
   },
   "outputs": [
    {
     "data": {
      "text/plain": [
       "[(0, 50000)]"
      ]
     },
     "execution_count": 69,
     "metadata": {},
     "output_type": "execute_result"
    },
    {
     "data": {
      "image/png": "[encoded data removed]",
      "text/plain": [
       "<matplotlib.figure.Figure at 0xc1dc128>"
      ]
     },
     "metadata": {},
     "output_type": "display_data"
    }
   ],
   "source": [
    "ax = sns.boxplot(x=instructor_paced['sum_enrolls'], y=instructor_paced['Announcement Window Quartile'], order=['Q4', 'Q3', 'Q2', 'Q1'])\n",
    "ax.set(xlim=(0, 50000))"
   ]
  },
  {
   "cell_type": "markdown",
   "metadata": {},
   "source": [
    "# But is there a significant difference?"
   ]
  },
  {
   "cell_type": "code",
   "execution_count": 70,
   "metadata": {
    "collapsed": false
   },
   "outputs": [
    {
     "name": "stdout",
     "output_type": "stream",
     "text": [
      "Ttest_indResult(statistic=-2.2716475264445299, pvalue=0.023354379995268369)\n"
     ]
    }
   ],
   "source": [
    "from scipy.stats import ttest_ind\n",
    "\n",
    "bottom_quartile = instructor_paced[instructor_paced['Announcement Window Quartile'] == 'Q1']['sum_enrolls']\n",
    "top_quartile = instructor_paced[instructor_paced['Announcement Window Quartile'] == 'Q4']['sum_enrolls']\n",
    "\n",
    "print (ttest_ind(bottom_quartile, top_quartile))"
   ]
  },
  {
   "cell_type": "markdown",
   "metadata": {},
   "source": [
    "# Self Paced Courses"
   ]
  },
  {
   "cell_type": "code",
   "execution_count": 96,
   "metadata": {
    "collapsed": true
   },
   "outputs": [],
   "source": [
    "query = \"\"\"\n",
    "SELECT\n",
    "\ta.course_id,\n",
    "\tDATEDIFF(day, course_announcement_date, course_start_date) AS announcement_window,\n",
    "\tpacing_type,\n",
    "\tlevel_type,\n",
    "    course_partner,\n",
    "    content_language,\n",
    "    course_run_number,\n",
    "\tsum_enrolls,\n",
    "    sum_bookings\n",
    "FROM\n",
    "\tbusiness_intelligence.course_master a\n",
    "LEFT JOIN\n",
    "\tbusiness_intelligence.course_stats_summary b\n",
    "ON\n",
    "\ta.course_id = b.course_id\n",
    "WHERE\n",
    "    course_start_date <= CURRENT_DATE()\n",
    "AND\n",
    "\tcourse_end_date <= CURRENT_DATE()\n",
    "AND\n",
    "\tDATEDIFF(day, course_announcement_date, course_start_date)>0\n",
    "AND\n",
    "\tpacing_type = 'self_paced'\n",
    "AND\n",
    "    sum_enrolls > 100\n",
    "\"\"\"\n",
    "\n",
    "cur.execute(query)\n",
    "\n",
    "self_paced = pd.DataFrame(cur.fetchall())"
   ]
  },
  {
   "cell_type": "code",
   "execution_count": 88,
   "metadata": {
    "collapsed": false
   },
   "outputs": [
    {
     "data": {
      "text/plain": [
       "[(0, 150)]"
      ]
     },
     "execution_count": 88,
     "metadata": {},
     "output_type": "execute_result"
    },
    {
     "data": {
      "image/png": "[encoded data removed]",
      "text/plain": [
       "<matplotlib.figure.Figure at 0xc5bd5f8>"
      ]
     },
     "metadata": {},
     "output_type": "display_data"
    }
   ],
   "source": [
    "ax = sns.boxplot(x=self_paced['announcement_window'])\n",
    "ax.set(xlim=(0, 150))"
   ]
  },
  {
   "cell_type": "code",
   "execution_count": 98,
   "metadata": {
    "collapsed": false
   },
   "outputs": [
    {
     "data": {
      "text/plain": [
       "[(0, 150)]"
      ]
     },
     "execution_count": 98,
     "metadata": {},
     "output_type": "execute_result"
    },
    {
     "data": {
      "image/png": "[encoded data removed]",
      "text/plain": [
       "<matplotlib.figure.Figure at 0x118fccf8>"
      ]
     },
     "metadata": {},
     "output_type": "display_data"
    }
   ],
   "source": [
    "ax = sns.boxplot(x=self_paced['announcement_window'], y=self_paced['level_type'])\n",
    "ax.set(xlim=(0, 150))"
   ]
  },
  {
   "cell_type": "code",
   "execution_count": 89,
   "metadata": {
    "collapsed": false
   },
   "outputs": [
    {
     "name": "stdout",
     "output_type": "stream",
     "text": [
      "13.75\n",
      "27.0\n",
      "61.0\n"
     ]
    }
   ],
   "source": [
    "print self_paced['announcement_window'].quantile(.25)\n",
    "print self_paced['announcement_window'].quantile(.5)\n",
    "print self_paced['announcement_window'].quantile(.75)"
   ]
  },
  {
   "cell_type": "code",
   "execution_count": 73,
   "metadata": {
    "collapsed": false
   },
   "outputs": [
    {
     "data": {
      "image/png": "[encoded data removed]",
      "text/plain": [
       "<matplotlib.figure.Figure at 0x12a4df98>"
      ]
     },
     "metadata": {},
     "output_type": "display_data"
    }
   ],
   "source": [
    "ax = sns.regplot(x=self_paced['announcement_window'], y=self_paced['sum_enrolls'], fit_reg=False)"
   ]
  },
  {
   "cell_type": "code",
   "execution_count": 74,
   "metadata": {
    "collapsed": false
   },
   "outputs": [
    {
     "name": "stderr",
     "output_type": "stream",
     "text": [
      "C:\\Users\\ochang\\AppData\\Local\\Continuum\\Anaconda2\\lib\\site-packages\\ipykernel\\__main__.py:4: SettingWithCopyWarning: \n",
      "A value is trying to be set on a copy of a slice from a DataFrame\n",
      "\n",
      "See the caveats in the documentation: http://pandas.pydata.org/pandas-docs/stable/indexing.html#indexing-view-versus-copy\n",
      "C:\\Users\\ochang\\AppData\\Local\\Continuum\\Anaconda2\\lib\\site-packages\\ipykernel\\__main__.py:5: SettingWithCopyWarning: \n",
      "A value is trying to be set on a copy of a slice from a DataFrame\n",
      "\n",
      "See the caveats in the documentation: http://pandas.pydata.org/pandas-docs/stable/indexing.html#indexing-view-versus-copy\n",
      "C:\\Users\\ochang\\AppData\\Local\\Continuum\\Anaconda2\\lib\\site-packages\\ipykernel\\__main__.py:6: SettingWithCopyWarning: \n",
      "A value is trying to be set on a copy of a slice from a DataFrame\n",
      "\n",
      "See the caveats in the documentation: http://pandas.pydata.org/pandas-docs/stable/indexing.html#indexing-view-versus-copy\n",
      "C:\\Users\\ochang\\AppData\\Local\\Continuum\\Anaconda2\\lib\\site-packages\\ipykernel\\__main__.py:7: SettingWithCopyWarning: \n",
      "A value is trying to be set on a copy of a slice from a DataFrame\n",
      "\n",
      "See the caveats in the documentation: http://pandas.pydata.org/pandas-docs/stable/indexing.html#indexing-view-versus-copy\n"
     ]
    }
   ],
   "source": [
    "# Splitting course announcement dates into Quartiles to see if there's a significant difference between announcement lead time and enrollments\n",
    "self_paced['Announcement Window Quartile'] = 'Null'\n",
    "\n",
    "self_paced['Announcement Window Quartile'][self_paced['announcement_window'] >= self_paced['announcement_window'].quantile(.75)] = 'Q4'\n",
    "self_paced['Announcement Window Quartile'][self_paced['announcement_window'] < self_paced['announcement_window'].quantile(.75)] = 'Q3'\n",
    "self_paced['Announcement Window Quartile'][self_paced['announcement_window'] < self_paced['announcement_window'].quantile(.50)] = 'Q2'\n",
    "self_paced['Announcement Window Quartile'][self_paced['announcement_window'] < self_paced['announcement_window'].quantile(.25)] = 'Q1'"
   ]
  },
  {
   "cell_type": "code",
   "execution_count": 75,
   "metadata": {
    "collapsed": false
   },
   "outputs": [
    {
     "name": "stdout",
     "output_type": "stream",
     "text": [
      "Announcement Window Quartile\n",
      "Q1    12017.382353\n",
      "Q2    18306.590476\n",
      "Q3    20324.316832\n",
      "Q4    20322.688679\n",
      "Name: sum_enrolls, dtype: float64\n",
      "Announcement Window Quartile\n",
      "Q1     5752.5\n",
      "Q2    10846.0\n",
      "Q3     8574.0\n",
      "Q4     7591.5\n",
      "Name: sum_enrolls, dtype: float64\n",
      "Announcement Window Quartile\n",
      "Q1      6.764706\n",
      "Q2     19.333333\n",
      "Q3     41.623762\n",
      "Q4    122.462264\n",
      "Name: announcement_window, dtype: float64\n",
      "Announcement Window Quartile\n",
      "Q1     6.0\n",
      "Q2    20.0\n",
      "Q3    41.0\n",
      "Q4    99.5\n",
      "Name: announcement_window, dtype: float64\n"
     ]
    }
   ],
   "source": [
    "# Group by Quartiles to see Mean/Median of Enrollments for each Announcement Window Quartile\n",
    "print self_paced.groupby(['Announcement Window Quartile'])['sum_enrolls'].mean()\n",
    "print self_paced.groupby(['Announcement Window Quartile'])['sum_enrolls'].median()\n",
    "\n",
    "print self_paced.groupby(['Announcement Window Quartile'])['announcement_window'].mean()\n",
    "print self_paced.groupby(['Announcement Window Quartile'])['announcement_window'].median()"
   ]
  },
  {
   "cell_type": "markdown",
   "metadata": {},
   "source": [
    "# Not as big of an effect for Self Paced\n",
    "- Also note that Self Paced courses tend to have a smaller announcement window"
   ]
  },
  {
   "cell_type": "code",
   "execution_count": 76,
   "metadata": {
    "collapsed": false
   },
   "outputs": [
    {
     "data": {
      "text/plain": [
       "[(0, 50000)]"
      ]
     },
     "execution_count": 76,
     "metadata": {},
     "output_type": "execute_result"
    },
    {
     "data": {
      "image/png": "[encoded data removed]",
      "text/plain": [
       "<matplotlib.figure.Figure at 0x118056d8>"
      ]
     },
     "metadata": {},
     "output_type": "display_data"
    }
   ],
   "source": [
    "ax = sns.boxplot(x=self_paced['sum_enrolls'], y=self_paced['Announcement Window Quartile'], order=['Q4', 'Q3', 'Q2', 'Q1'])\n",
    "ax.set(xlim=(0, 50000))"
   ]
  },
  {
   "cell_type": "markdown",
   "metadata": {},
   "source": [
    "# However we still see significant results"
   ]
  },
  {
   "cell_type": "code",
   "execution_count": 77,
   "metadata": {
    "collapsed": false
   },
   "outputs": [
    {
     "name": "stdout",
     "output_type": "stream",
     "text": [
      "Ttest_indResult(statistic=-1.8793701122793085, pvalue=0.061605875929027436)\n"
     ]
    }
   ],
   "source": [
    "bottom_quartile = self_paced[self_paced['Announcement Window Quartile'] == 'Q1']['sum_enrolls']\n",
    "top_quartile = self_paced[self_paced['Announcement Window Quartile'] == 'Q4']['sum_enrolls']\n",
    "\n",
    "print (ttest_ind(bottom_quartile, top_quartile))"
   ]
  }
 ],
 "metadata": {
  "kernelspec": {
   "display_name": "Python 2",
   "language": "python",
   "name": "python2"
  },
  "language_info": {
   "codemirror_mode": {
    "name": "ipython",
    "version": 2
   },
   "file_extension": ".py",
   "mimetype": "text/x-python",
   "name": "python",
   "nbconvert_exporter": "python",
   "pygments_lexer": "ipython2",
   "version": "2.7.13"
  }
 },
 "nbformat": 4,
 "nbformat_minor": 2
}
