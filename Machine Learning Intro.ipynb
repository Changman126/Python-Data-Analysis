{
 "cells": [
  {
   "cell_type": "markdown",
   "metadata": {
    "deletable": true,
    "editable": true
   },
   "source": [
    "# What is Machine Learning?\n",
    "\n",
    "Two Main Categories\n",
    "- Supervised Learning: Making predictions using data\n",
    "- Unsupervised Learning: Extracting structure from data\n",
    "\n",
    "Classification is supervised learning in which the response is categorical\n",
    "\n",
    "Regression is supervised learning in which the response is ordered and continuous"
   ]
  },
  {
   "cell_type": "markdown",
   "metadata": {
    "collapsed": true,
    "deletable": true,
    "editable": true
   },
   "source": [
    "# How does machine learning \"work\"?\n",
    "\n",
    "At a high level:\n",
    "1. First we train a machine learning model using labeled data\n",
    "- \"labeled data\" has been labeled with the outcome\n",
    "- \"machine learning model\" learns the relationship between the attributes of the data and its outcome\n",
    "2. Then we make predictions on new data for which the label is unknown\n",
    "\n",
    "The primary goal of supervised learning is to build a model that \"generalizes\": It accurately predicts the future rather than the past"
   ]
  },
  {
   "cell_type": "markdown",
   "metadata": {},
   "source": [
    "# Machine Learning Terminology\n",
    "\n",
    "- Each row is an observation (aka: sample, example, instance, record)\n",
    "- Each column is a feature (aka: predictor, attribute, independent variable, input, regressor, covariate)\n",
    "- Each value we are predicting is the response (aka: target, outcome, label, dependent variable)"
   ]
  }
 ],
 "metadata": {
  "kernelspec": {
   "display_name": "Python 2",
   "language": "python",
   "name": "python2"
  },
  "language_info": {
   "codemirror_mode": {
    "name": "ipython",
    "version": 2
   },
   "file_extension": ".py",
   "mimetype": "text/x-python",
   "name": "python",
   "nbconvert_exporter": "python",
   "pygments_lexer": "ipython2",
   "version": "2.7.13"
  }
 },
 "nbformat": 4,
 "nbformat_minor": 2
}
